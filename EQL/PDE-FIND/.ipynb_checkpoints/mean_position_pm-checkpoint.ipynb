{
 "cells": [
  {
   "cell_type": "code",
   "execution_count": 25,
   "id": "8a35ac40",
   "metadata": {},
   "outputs": [],
   "source": [
    "import numpy as np\n",
    "import matplotlib.pyplot as plt\n",
    "import pde\n",
    "from sklearn.preprocessing import StandardScaler, Normalizer\n",
    "\n",
    "from KO_PDE_FIND import *"
   ]
  },
  {
   "cell_type": "code",
   "execution_count": 3,
   "id": "5a9af5e1",
   "metadata": {},
   "outputs": [],
   "source": [
    "# Load the data from the mean_position histogram (+- state)\n",
    "\n",
    "Pt = np.load('../Data/mean_position_+-.npy') # load data obtained from binning the trajectories"
   ]
  },
  {
   "cell_type": "markdown",
   "id": "09d69337",
   "metadata": {},
   "source": [
    "# Build matrix library"
   ]
  },
  {
   "cell_type": "code",
   "execution_count": 195,
   "id": "8905bfd3",
   "metadata": {},
   "outputs": [
    {
     "name": "stderr",
     "output_type": "stream",
     "text": [
      "/home/nwachukwu/anaconda3/lib/python3.9/site-packages/numpy/polynomial/chebyshev.py:1673: RankWarning: The fit may be poorly conditioned\n",
      "  return pu._fit(chebvander, x, y, deg, rcond, full, w)\n"
     ]
    }
   ],
   "source": [
    "# time_diff : determines how temporal derivatives are denoised. Options: Finite Difference and polynomila interpolation\n",
    "# space_diff: determines how spatial derivates are denoised\n",
    "# dt, dx are temporal and spatial step sizes\n",
    "# deg_x, deg_t : degree of x and t for polynomial interpolation\n",
    "# Pt : Empirical distribution for the +- state\n",
    "\n",
    "\n",
    "dPt,R,rhs_des = build_linear_system(Pt, dt=3.0, dx=1.0, D=2, P=2, time_diff = 'poly', space_diff='poly', deg_x = 10, deg_t=3)"
   ]
  },
  {
   "cell_type": "code",
   "execution_count": 196,
   "id": "6541ed0a",
   "metadata": {},
   "outputs": [
    {
     "data": {
      "text/plain": [
       "(2760, 1)"
      ]
     },
     "execution_count": 196,
     "metadata": {},
     "output_type": "execute_result"
    }
   ],
   "source": [
    "dPt.shape"
   ]
  },
  {
   "cell_type": "code",
   "execution_count": 197,
   "id": "c7539d75",
   "metadata": {},
   "outputs": [
    {
     "data": {
      "text/plain": [
       "(27, 150)"
      ]
     },
     "execution_count": 197,
     "metadata": {},
     "output_type": "execute_result"
    }
   ],
   "source": [
    "Pt.shape"
   ]
  },
  {
   "cell_type": "code",
   "execution_count": 31,
   "id": "5dc3f7e3",
   "metadata": {},
   "outputs": [
    {
     "data": {
      "text/plain": [
       "(2760, 9)"
      ]
     },
     "execution_count": 31,
     "metadata": {},
     "output_type": "execute_result"
    }
   ],
   "source": [
    "R.shape"
   ]
  },
  {
   "cell_type": "code",
   "execution_count": 198,
   "id": "5c051163",
   "metadata": {},
   "outputs": [
    {
     "data": {
      "text/plain": [
       "['',\n",
       " 'u',\n",
       " 'u^2',\n",
       " 'u_{x}',\n",
       " 'uu_{x}',\n",
       " 'u^2u_{x}',\n",
       " 'u_{xx}',\n",
       " 'uu_{xx}',\n",
       " 'u^2u_{xx}']"
      ]
     },
     "execution_count": 198,
     "metadata": {},
     "output_type": "execute_result"
    }
   ],
   "source": [
    "rhs_des"
   ]
  },
  {
   "cell_type": "code",
   "execution_count": 5,
   "id": "34f214b2",
   "metadata": {},
   "outputs": [
    {
     "data": {
      "text/plain": [
       "(2760,)"
      ]
     },
     "execution_count": 5,
     "metadata": {},
     "output_type": "execute_result"
    }
   ],
   "source": [
    "# Construct Theta to preserve the FPE with the suitable candidate terms\n",
    "\n",
    "fpe_rhs_desc = ['','p','p_{x}','xp_{x}','p_{xx}']\n",
    "\n",
    "x = np.linspace(-3,3,150)\n",
    "trim = x[15:-15] # Poly interpolation trims of 30 boundary points while using build_linear_system function\n",
    "trim_x = np.tile(trim,23)\n",
    "trim_x.shape"
   ]
  },
  {
   "cell_type": "code",
   "execution_count": 200,
   "id": "ff3f4fa4",
   "metadata": {},
   "outputs": [
    {
     "data": {
      "text/plain": [
       "(2760, 5)"
      ]
     },
     "execution_count": 200,
     "metadata": {},
     "output_type": "execute_result"
    }
   ],
   "source": [
    "# Theta columns\n",
    "\n",
    "col_1s = R[:,0] # column of 1s\n",
    "col_p = R[:, 1] # column p\n",
    "col_p_x = R[:,3] # column p_x\n",
    "col_xp_x = np.multiply(trim_x,col_p_x) # column xp_x\n",
    "col_p_xx = R[:,6]\n",
    "\n",
    "# Theta\n",
    "Theta = np.column_stack((col_1s,col_p, col_p_x, col_xp_x, col_p_xx))\n",
    "\n",
    "Theta.shape"
   ]
  },
  {
   "cell_type": "code",
   "execution_count": 7,
   "id": "34e2cef7",
   "metadata": {},
   "outputs": [],
   "source": [
    "def split_data(R,Ut,split):\n",
    "    # Split data into 80% training and 20% test, then search for the best tolderance.\n",
    "    np.random.seed(0) # for consistancy\n",
    "    n,_ = R.shape\n",
    "    train = np.random.choice(n, int(n*split), replace = False)\n",
    "    test = [i for i in np.arange(n) if i not in train]\n",
    "    TrainR = R[train,:]\n",
    "    TestR = R[test,:]\n",
    "    TrainY = Ut[train,:]\n",
    "    TestY = Ut[test,:]\n",
    "    \n",
    "    return TrainR,TestR,TrainY,TestY \n",
    "\n",
    "\n",
    "def optimize_tolerance(w_best,TrainR,TestR,TrainY,TestY):\n",
    "    err_best = np.linalg.norm(TestY - TestR.dot(w_best), 2) + np.count_nonzero(w_best) #l0_penalty*np.linalg.norm(w_best,2) + \n",
    "    tol_best = 0\n",
    "\n",
    "    # Now increase tolerance until test performance decreases\n",
    "    for iter in range(maxit):\n",
    "\n",
    "        # Get a set of coefficients and error\n",
    "        w = STRidge(TrainR,TrainY,lam,STR_iters,tol,normalize = normalize)\n",
    "        err = np.linalg.norm(TestY - TestR.dot(w), 2) + l0_penalty*np.count_nonzero(w)\n",
    "\n",
    "        # Has the accuracy improved?\n",
    "        if err <= err_best:\n",
    "            err_best = err\n",
    "            w_best = w\n",
    "            tol_best = tol\n",
    "            tol = tol + d_tol\n",
    "\n",
    "        else:\n",
    "            tol = max([0,tol - 2*d_tol])\n",
    "            d_tol  = 2*d_tol / (maxit - iter)\n",
    "            tol = tol + d_tol\n",
    "\n",
    "    if print_best_tol: print(\"Optimal tolerance:\", tol_best)"
   ]
  },
  {
   "cell_type": "code",
   "execution_count": 201,
   "id": "cd31d632",
   "metadata": {},
   "outputs": [],
   "source": [
    "# split data into training and test dataset\n",
    "\n",
    "ptrain, ptest, dPt_train, dPt_test = split_data(Theta,dPt,0.8)"
   ]
  },
  {
   "cell_type": "code",
   "execution_count": 30,
   "id": "88d0ab41",
   "metadata": {},
   "outputs": [
    {
     "name": "stdout",
     "output_type": "stream",
     "text": [
      "u_t = (-0.022310 +0.000000i)\n",
      "    + (-0.014251 +0.000000i)p\n",
      "    + (0.049115 +0.000000i)p_{x}\n",
      "    + (0.000560 +0.000000i)xp_{x}\n",
      "    + (-0.016279 +0.000000i)p_{xx}\n",
      "   \n"
     ]
    }
   ],
   "source": [
    "# fit to STRidge\n",
    "\n",
    "w = TrainSTRidge(ptrain,dPt_train,0.0001,0,maxit=25,STR_iters=50,print_best_tol=True,normalize=2)\n",
    "print_pde(w,fpe_rhs_desc)"
   ]
  },
  {
   "cell_type": "code",
   "execution_count": null,
   "id": "e15f667f",
   "metadata": {},
   "outputs": [],
   "source": []
  },
  {
   "cell_type": "markdown",
   "id": "1d4360ac",
   "metadata": {},
   "source": [
    "# Simulate the learned model"
   ]
  },
  {
   "cell_type": "code",
   "execution_count": 203,
   "id": "01588b8b",
   "metadata": {},
   "outputs": [
    {
     "data": {
      "application/vnd.jupyter.widget-view+json": {
       "model_id": "bbef056c463a426e8157bc401eabc76d",
       "version_major": 2,
       "version_minor": 0
      },
      "text/plain": [
       "  0%|          | 0/27.0 [00:00<?, ?it/s]"
      ]
     },
     "metadata": {},
     "output_type": "display_data"
    },
    {
     "data": {
      "text/plain": [
       "[<matplotlib.lines.Line2D at 0x7f414a1bfa90>]"
      ]
     },
     "execution_count": 203,
     "metadata": {},
     "output_type": "execute_result"
    },
    {
     "data": {
      "image/png": "[encoded data removed]",
      "text/plain": [
       "<Figure size 432x288 with 1 Axes>"
      ]
     },
     "metadata": {
      "needs_background": "light"
     },
     "output_type": "display_data"
    }
   ],
   "source": [
    "grid = pde.CartesianGrid([[-3,3]], 150)  # generate grid for x axis\n",
    "field = pde.ScalarField(grid,)\n",
    "\n",
    "#initial condition using delta function\n",
    "field.insert([0], 1)\n",
    "\n",
    "# No flux bc\n",
    "bc_lower = {\"value\": 0}\n",
    "bc_upper = {\"derivative\": 0}\n",
    "bc = [bc_lower, bc_upper]\n",
    "\n",
    "# pde definition\n",
    "eq = pde.PDE({\"p\": \"-0.022 -0.01*p + d_dx(p * (0.06631 - 0.0008*x)) + (0.03 * laplace(p))\"}, bc=bc)#(0.14-(0.13*x))\n",
    "\n",
    "# data collection\n",
    "storage = pde.MemoryStorage()\n",
    "trackers = [\n",
    "    \"progress\",  # show progress bar during simulation\n",
    "    \"steady_state\",  # abort when steady state is reached\n",
    "    storage.tracker(interval=0.0001),  # store data every simulation time unit\n",
    "    pde.PlotTracker(show=True),  # show images during simulation\n",
    "    # print some output every 5 real seconds:\n",
    "    pde.PrintTracker(interval=pde.RealtimeIntervals(duration=2)),\n",
    "]\n",
    "\n",
    "#solve the PDE\n",
    "res = eq.solve(field, 27, dt=0.01, tracker=[\"progress\", storage.tracker(1.0)])  #  [\"progress\", storage.tracker(0.0001)]\n",
    "\n",
    "\n",
    "plt.plot(storage.data[10])"
   ]
  },
  {
   "cell_type": "code",
   "execution_count": 204,
   "id": "c8856db6",
   "metadata": {},
   "outputs": [],
   "source": [
    "learned_pt = np.array(storage.data)"
   ]
  },
  {
   "cell_type": "code",
   "execution_count": 162,
   "id": "4d97e9ac",
   "metadata": {},
   "outputs": [
    {
     "data": {
      "text/plain": [
       "(28, 150)"
      ]
     },
     "execution_count": 162,
     "metadata": {},
     "output_type": "execute_result"
    }
   ],
   "source": [
    "learned_pt.shape"
   ]
  },
  {
   "cell_type": "code",
   "execution_count": 163,
   "id": "b047f483",
   "metadata": {},
   "outputs": [
    {
     "data": {
      "text/plain": [
       "4200"
      ]
     },
     "execution_count": 163,
     "metadata": {},
     "output_type": "execute_result"
    }
   ],
   "source": [
    "28*150"
   ]
  },
  {
   "cell_type": "code",
   "execution_count": 174,
   "id": "9bf06449",
   "metadata": {},
   "outputs": [],
   "source": [
    "lll = learned_pt[2:-3,15:-15]"
   ]
  },
  {
   "cell_type": "code",
   "execution_count": 177,
   "id": "a11d3572",
   "metadata": {
    "scrolled": true
   },
   "outputs": [
    {
     "data": {
      "text/plain": [
       "(600,)"
      ]
     },
     "execution_count": 177,
     "metadata": {},
     "output_type": "execute_result"
    }
   ],
   "source": [
    "learned_pt_train, learned_pt_test, g,b =split_data(lll,dPt,0.8)\n",
    "lT = learned_pt_test.flatten()\n",
    "\n",
    "lT.shape"
   ]
  },
  {
   "cell_type": "code",
   "execution_count": 124,
   "id": "c9c051ca",
   "metadata": {},
   "outputs": [],
   "source": [
    "empirical_pt_train, empirical_test, g,b =split_data(Pt,dPt,0.8)"
   ]
  },
  {
   "cell_type": "code",
   "execution_count": null,
   "id": "c814fea6",
   "metadata": {},
   "outputs": [],
   "source": [
    "import statsmodels.api as sm\n",
    "\n",
    "y = np.array([1,2,3,4,5])\n",
    "x = sm.add_constant(np.array([1,2,3,4,5]))\n",
    "model = sm.OLS(y,x).fit()\n",
    "\n",
    "model.aic"
   ]
  },
  {
   "cell_type": "code",
   "execution_count": null,
   "id": "edc779fa",
   "metadata": {},
   "outputs": [],
   "source": [
    "np.cumprod"
   ]
  },
  {
   "cell_type": "code",
   "execution_count": 19,
   "id": "049ad489",
   "metadata": {},
   "outputs": [],
   "source": [
    "def aic(pt,learned_pt,k):\n",
    "    m = len(pt)\n",
    "    rss = np.sum(np.square(pt-learned_pt))\n",
    "    aic = m*np.log(rss/m) + 2*k\n",
    "    \n",
    "    return aic"
   ]
  },
  {
   "cell_type": "code",
   "execution_count": 36,
   "id": "5cb791d7",
   "metadata": {},
   "outputs": [
    {
     "data": {
      "text/plain": [
       "1j"
      ]
     },
     "execution_count": 36,
     "metadata": {},
     "output_type": "execute_result"
    }
   ],
   "source": [
    "1j"
   ]
  },
  {
   "cell_type": "code",
   "execution_count": 37,
   "id": "15da08b3",
   "metadata": {},
   "outputs": [
    {
     "data": {
      "text/plain": [
       "(10+39.269908169872416j)"
      ]
     },
     "execution_count": 37,
     "metadata": {},
     "output_type": "execute_result"
    }
   ],
   "source": [
    "25*np.log(1j) +2*5"
   ]
  },
  {
   "cell_type": "code",
   "execution_count": 20,
   "id": "b7a5a52c",
   "metadata": {
    "collapsed": true
   },
   "outputs": [
    {
     "ename": "NameError",
     "evalue": "name 'learned_pt' is not defined",
     "output_type": "error",
     "traceback": [
      "\u001b[0;31m---------------------------------------------------------------------------\u001b[0m",
      "\u001b[0;31mNameError\u001b[0m                                 Traceback (most recent call last)",
      "\u001b[0;32m/tmp/ipykernel_584061/1518210318.py\u001b[0m in \u001b[0;36m<module>\u001b[0;34m\u001b[0m\n\u001b[0;32m----> 1\u001b[0;31m \u001b[0maic_score\u001b[0m \u001b[0;34m=\u001b[0m \u001b[0maic\u001b[0m\u001b[0;34m(\u001b[0m\u001b[0mlearned_pt\u001b[0m\u001b[0;34m[\u001b[0m\u001b[0;34m:\u001b[0m\u001b[0;34m-\u001b[0m\u001b[0;36m1\u001b[0m\u001b[0;34m,\u001b[0m\u001b[0;34m:\u001b[0m\u001b[0;34m]\u001b[0m\u001b[0;34m,\u001b[0m\u001b[0mPt\u001b[0m\u001b[0;34m,\u001b[0m\u001b[0mk\u001b[0m\u001b[0;34m=\u001b[0m\u001b[0;36m4\u001b[0m\u001b[0;34m)\u001b[0m\u001b[0;34m\u001b[0m\u001b[0;34m\u001b[0m\u001b[0m\n\u001b[0m\u001b[1;32m      2\u001b[0m \u001b[0maic_score\u001b[0m\u001b[0;34m\u001b[0m\u001b[0;34m\u001b[0m\u001b[0m\n",
      "\u001b[0;31mNameError\u001b[0m: name 'learned_pt' is not defined"
     ]
    }
   ],
   "source": [
    "aic_score = aic(learned_pt[:-1,:],Pt,k=4)\n",
    "aic_score"
   ]
  },
  {
   "cell_type": "code",
   "execution_count": 32,
   "id": "c07e2a56",
   "metadata": {},
   "outputs": [
    {
     "data": {
      "text/plain": [
       "(2760, 1)"
      ]
     },
     "execution_count": 32,
     "metadata": {},
     "output_type": "execute_result"
    }
   ],
   "source": [
    "dPt.shape"
   ]
  },
  {
   "cell_type": "code",
   "execution_count": 28,
   "id": "df209ef5",
   "metadata": {},
   "outputs": [
    {
     "name": "stderr",
     "output_type": "stream",
     "text": [
      "/home/nwachukwu/anaconda3/lib/python3.9/site-packages/numpy/polynomial/chebyshev.py:1673: RankWarning: The fit may be poorly conditioned\n",
      "  return pu._fit(chebvander, x, y, deg, rcond, full, w)\n"
     ]
    },
    {
     "data": {
      "application/vnd.jupyter.widget-view+json": {
       "model_id": "dc3d6aaec2f24f0e992e486cfbc72369",
       "version_major": 2,
       "version_minor": 0
      },
      "text/plain": [
       "  0%|          | 0/27.0 [00:00<?, ?it/s]"
      ]
     },
     "metadata": {},
     "output_type": "display_data"
    },
    {
     "name": "stdout",
     "output_type": "stream",
     "text": [
      "2200.292566178409\n"
     ]
    },
    {
     "name": "stderr",
     "output_type": "stream",
     "text": [
      "/home/nwachukwu/anaconda3/lib/python3.9/site-packages/numpy/polynomial/chebyshev.py:1673: RankWarning: The fit may be poorly conditioned\n",
      "  return pu._fit(chebvander, x, y, deg, rcond, full, w)\n"
     ]
    },
    {
     "data": {
      "application/vnd.jupyter.widget-view+json": {
       "model_id": "a656d5809c244c64bc21f5b8632966d3",
       "version_major": 2,
       "version_minor": 0
      },
      "text/plain": [
       "  0%|          | 0/27.0 [00:00<?, ?it/s]"
      ]
     },
     "metadata": {},
     "output_type": "display_data"
    },
    {
     "name": "stdout",
     "output_type": "stream",
     "text": [
      "2200.292566178409\n"
     ]
    },
    {
     "name": "stderr",
     "output_type": "stream",
     "text": [
      "/home/nwachukwu/anaconda3/lib/python3.9/site-packages/numpy/polynomial/chebyshev.py:1673: RankWarning: The fit may be poorly conditioned\n",
      "  return pu._fit(chebvander, x, y, deg, rcond, full, w)\n"
     ]
    },
    {
     "data": {
      "application/vnd.jupyter.widget-view+json": {
       "model_id": "e54bd620b55440a58084cfbb688347bc",
       "version_major": 2,
       "version_minor": 0
      },
      "text/plain": [
       "  0%|          | 0/27.0 [00:00<?, ?it/s]"
      ]
     },
     "metadata": {},
     "output_type": "display_data"
    },
    {
     "name": "stdout",
     "output_type": "stream",
     "text": [
      "2200.292566178409\n"
     ]
    },
    {
     "name": "stderr",
     "output_type": "stream",
     "text": [
      "/home/nwachukwu/anaconda3/lib/python3.9/site-packages/numpy/polynomial/chebyshev.py:1673: RankWarning: The fit may be poorly conditioned\n",
      "  return pu._fit(chebvander, x, y, deg, rcond, full, w)\n"
     ]
    },
    {
     "data": {
      "application/vnd.jupyter.widget-view+json": {
       "model_id": "a56a0035a4bd4eaca9b52384a6e8a6b3",
       "version_major": 2,
       "version_minor": 0
      },
      "text/plain": [
       "  0%|          | 0/27.0 [00:00<?, ?it/s]"
      ]
     },
     "metadata": {},
     "output_type": "display_data"
    },
    {
     "name": "stdout",
     "output_type": "stream",
     "text": [
      "2200.292566178409\n"
     ]
    },
    {
     "name": "stderr",
     "output_type": "stream",
     "text": [
      "/home/nwachukwu/anaconda3/lib/python3.9/site-packages/numpy/polynomial/chebyshev.py:1673: RankWarning: The fit may be poorly conditioned\n",
      "  return pu._fit(chebvander, x, y, deg, rcond, full, w)\n"
     ]
    },
    {
     "data": {
      "application/vnd.jupyter.widget-view+json": {
       "model_id": "6b8a10f96d1e40a4b73beaf672f1af46",
       "version_major": 2,
       "version_minor": 0
      },
      "text/plain": [
       "  0%|          | 0/27.0 [00:00<?, ?it/s]"
      ]
     },
     "metadata": {},
     "output_type": "display_data"
    },
    {
     "name": "stdout",
     "output_type": "stream",
     "text": [
      "2200.292566178409\n"
     ]
    },
    {
     "name": "stderr",
     "output_type": "stream",
     "text": [
      "/home/nwachukwu/anaconda3/lib/python3.9/site-packages/numpy/polynomial/chebyshev.py:1673: RankWarning: The fit may be poorly conditioned\n",
      "  return pu._fit(chebvander, x, y, deg, rcond, full, w)\n"
     ]
    },
    {
     "data": {
      "application/vnd.jupyter.widget-view+json": {
       "model_id": "5c84d4637cb74c39a94fcc055cc1d60d",
       "version_major": 2,
       "version_minor": 0
      },
      "text/plain": [
       "  0%|          | 0/27.0 [00:00<?, ?it/s]"
      ]
     },
     "metadata": {},
     "output_type": "display_data"
    },
    {
     "name": "stdout",
     "output_type": "stream",
     "text": [
      "2200.292566178409\n"
     ]
    },
    {
     "name": "stderr",
     "output_type": "stream",
     "text": [
      "/home/nwachukwu/anaconda3/lib/python3.9/site-packages/numpy/polynomial/chebyshev.py:1673: RankWarning: The fit may be poorly conditioned\n",
      "  return pu._fit(chebvander, x, y, deg, rcond, full, w)\n"
     ]
    },
    {
     "data": {
      "application/vnd.jupyter.widget-view+json": {
       "model_id": "4c05f72df3cd452f81b0c15dbd14606a",
       "version_major": 2,
       "version_minor": 0
      },
      "text/plain": [
       "  0%|          | 0/27.0 [00:00<?, ?it/s]"
      ]
     },
     "metadata": {},
     "output_type": "display_data"
    },
    {
     "name": "stdout",
     "output_type": "stream",
     "text": [
      "2200.292566178409\n"
     ]
    },
    {
     "name": "stderr",
     "output_type": "stream",
     "text": [
      "/home/nwachukwu/anaconda3/lib/python3.9/site-packages/numpy/polynomial/chebyshev.py:1673: RankWarning: The fit may be poorly conditioned\n",
      "  return pu._fit(chebvander, x, y, deg, rcond, full, w)\n"
     ]
    },
    {
     "data": {
      "application/vnd.jupyter.widget-view+json": {
       "model_id": "57b246f0e89b49639ac3a9d722cbfcdf",
       "version_major": 2,
       "version_minor": 0
      },
      "text/plain": [
       "  0%|          | 0/27.0 [00:00<?, ?it/s]"
      ]
     },
     "metadata": {},
     "output_type": "display_data"
    },
    {
     "name": "stdout",
     "output_type": "stream",
     "text": [
      "2200.292566178409\n"
     ]
    },
    {
     "name": "stderr",
     "output_type": "stream",
     "text": [
      "/home/nwachukwu/anaconda3/lib/python3.9/site-packages/numpy/polynomial/chebyshev.py:1673: RankWarning: The fit may be poorly conditioned\n",
      "  return pu._fit(chebvander, x, y, deg, rcond, full, w)\n"
     ]
    },
    {
     "data": {
      "application/vnd.jupyter.widget-view+json": {
       "model_id": "433529a17f074256ae69fa2dfe597641",
       "version_major": 2,
       "version_minor": 0
      },
      "text/plain": [
       "  0%|          | 0/27.0 [00:00<?, ?it/s]"
      ]
     },
     "metadata": {},
     "output_type": "display_data"
    },
    {
     "name": "stdout",
     "output_type": "stream",
     "text": [
      "2200.292566178409\n"
     ]
    },
    {
     "name": "stderr",
     "output_type": "stream",
     "text": [
      "/home/nwachukwu/anaconda3/lib/python3.9/site-packages/numpy/polynomial/chebyshev.py:1673: RankWarning: The fit may be poorly conditioned\n",
      "  return pu._fit(chebvander, x, y, deg, rcond, full, w)\n"
     ]
    },
    {
     "data": {
      "application/vnd.jupyter.widget-view+json": {
       "model_id": "854ad20712d04123ad9a07c45946ed1e",
       "version_major": 2,
       "version_minor": 0
      },
      "text/plain": [
       "  0%|          | 0/27.0 [00:00<?, ?it/s]"
      ]
     },
     "metadata": {},
     "output_type": "display_data"
    },
    {
     "name": "stdout",
     "output_type": "stream",
     "text": [
      "2121.059047401459\n"
     ]
    },
    {
     "name": "stderr",
     "output_type": "stream",
     "text": [
      "/home/nwachukwu/anaconda3/lib/python3.9/site-packages/numpy/polynomial/chebyshev.py:1673: RankWarning: The fit may be poorly conditioned\n",
      "  return pu._fit(chebvander, x, y, deg, rcond, full, w)\n"
     ]
    },
    {
     "data": {
      "application/vnd.jupyter.widget-view+json": {
       "model_id": "c961cc53f0f24ddb9f4040cf3eb91200",
       "version_major": 2,
       "version_minor": 0
      },
      "text/plain": [
       "  0%|          | 0/27.0 [00:00<?, ?it/s]"
      ]
     },
     "metadata": {},
     "output_type": "display_data"
    },
    {
     "name": "stdout",
     "output_type": "stream",
     "text": [
      "2121.059047401459\n"
     ]
    },
    {
     "name": "stderr",
     "output_type": "stream",
     "text": [
      "/home/nwachukwu/anaconda3/lib/python3.9/site-packages/numpy/polynomial/chebyshev.py:1673: RankWarning: The fit may be poorly conditioned\n",
      "  return pu._fit(chebvander, x, y, deg, rcond, full, w)\n"
     ]
    },
    {
     "data": {
      "application/vnd.jupyter.widget-view+json": {
       "model_id": "5339c91559d341689cb738390d105911",
       "version_major": 2,
       "version_minor": 0
      },
      "text/plain": [
       "  0%|          | 0/27.0 [00:00<?, ?it/s]"
      ]
     },
     "metadata": {},
     "output_type": "display_data"
    },
    {
     "name": "stdout",
     "output_type": "stream",
     "text": [
      "2121.059047401459\n"
     ]
    },
    {
     "name": "stderr",
     "output_type": "stream",
     "text": [
      "/home/nwachukwu/anaconda3/lib/python3.9/site-packages/numpy/polynomial/chebyshev.py:1673: RankWarning: The fit may be poorly conditioned\n",
      "  return pu._fit(chebvander, x, y, deg, rcond, full, w)\n"
     ]
    },
    {
     "data": {
      "application/vnd.jupyter.widget-view+json": {
       "model_id": "42f71c114081452d9818d77c88039ed1",
       "version_major": 2,
       "version_minor": 0
      },
      "text/plain": [
       "  0%|          | 0/27.0 [00:00<?, ?it/s]"
      ]
     },
     "metadata": {},
     "output_type": "display_data"
    },
    {
     "name": "stdout",
     "output_type": "stream",
     "text": [
      "2121.059047401459\n"
     ]
    },
    {
     "name": "stderr",
     "output_type": "stream",
     "text": [
      "/home/nwachukwu/anaconda3/lib/python3.9/site-packages/numpy/polynomial/chebyshev.py:1673: RankWarning: The fit may be poorly conditioned\n",
      "  return pu._fit(chebvander, x, y, deg, rcond, full, w)\n"
     ]
    },
    {
     "data": {
      "application/vnd.jupyter.widget-view+json": {
       "model_id": "0c4b18e624cb4fe59d66dd44d51481d6",
       "version_major": 2,
       "version_minor": 0
      },
      "text/plain": [
       "  0%|          | 0/27.0 [00:00<?, ?it/s]"
      ]
     },
     "metadata": {},
     "output_type": "display_data"
    },
    {
     "name": "stdout",
     "output_type": "stream",
     "text": [
      "2121.059047401459\n"
     ]
    },
    {
     "name": "stderr",
     "output_type": "stream",
     "text": [
      "/home/nwachukwu/anaconda3/lib/python3.9/site-packages/numpy/polynomial/chebyshev.py:1673: RankWarning: The fit may be poorly conditioned\n",
      "  return pu._fit(chebvander, x, y, deg, rcond, full, w)\n"
     ]
    },
    {
     "data": {
      "application/vnd.jupyter.widget-view+json": {
       "model_id": "6fca1ac7cb4245a4a134bc46df73cff7",
       "version_major": 2,
       "version_minor": 0
      },
      "text/plain": [
       "  0%|          | 0/27.0 [00:00<?, ?it/s]"
      ]
     },
     "metadata": {},
     "output_type": "display_data"
    },
    {
     "name": "stdout",
     "output_type": "stream",
     "text": [
      "2121.059047401459\n"
     ]
    },
    {
     "name": "stderr",
     "output_type": "stream",
     "text": [
      "/home/nwachukwu/anaconda3/lib/python3.9/site-packages/numpy/polynomial/chebyshev.py:1673: RankWarning: The fit may be poorly conditioned\n",
      "  return pu._fit(chebvander, x, y, deg, rcond, full, w)\n"
     ]
    },
    {
     "data": {
      "application/vnd.jupyter.widget-view+json": {
       "model_id": "5e18ba002cbe4438a6c15fad0c2897f5",
       "version_major": 2,
       "version_minor": 0
      },
      "text/plain": [
       "  0%|          | 0/27.0 [00:00<?, ?it/s]"
      ]
     },
     "metadata": {},
     "output_type": "display_data"
    },
    {
     "name": "stdout",
     "output_type": "stream",
     "text": [
      "2121.059047401459\n"
     ]
    },
    {
     "name": "stderr",
     "output_type": "stream",
     "text": [
      "/home/nwachukwu/anaconda3/lib/python3.9/site-packages/numpy/polynomial/chebyshev.py:1673: RankWarning: The fit may be poorly conditioned\n",
      "  return pu._fit(chebvander, x, y, deg, rcond, full, w)\n"
     ]
    },
    {
     "data": {
      "application/vnd.jupyter.widget-view+json": {
       "model_id": "5c3cf80e5b194997a9bae6676e3f1e5c",
       "version_major": 2,
       "version_minor": 0
      },
      "text/plain": [
       "  0%|          | 0/27.0 [00:00<?, ?it/s]"
      ]
     },
     "metadata": {},
     "output_type": "display_data"
    },
    {
     "name": "stdout",
     "output_type": "stream",
     "text": [
      "2121.059047401459\n"
     ]
    },
    {
     "name": "stderr",
     "output_type": "stream",
     "text": [
      "/home/nwachukwu/anaconda3/lib/python3.9/site-packages/numpy/polynomial/chebyshev.py:1673: RankWarning: The fit may be poorly conditioned\n",
      "  return pu._fit(chebvander, x, y, deg, rcond, full, w)\n"
     ]
    },
    {
     "data": {
      "application/vnd.jupyter.widget-view+json": {
       "model_id": "1efce5cf183c4463bb549909046124ed",
       "version_major": 2,
       "version_minor": 0
      },
      "text/plain": [
       "  0%|          | 0/27.0 [00:00<?, ?it/s]"
      ]
     },
     "metadata": {},
     "output_type": "display_data"
    },
    {
     "name": "stdout",
     "output_type": "stream",
     "text": [
      "2121.059047401459\n"
     ]
    },
    {
     "name": "stderr",
     "output_type": "stream",
     "text": [
      "/home/nwachukwu/anaconda3/lib/python3.9/site-packages/numpy/polynomial/chebyshev.py:1673: RankWarning: The fit may be poorly conditioned\n",
      "  return pu._fit(chebvander, x, y, deg, rcond, full, w)\n"
     ]
    },
    {
     "data": {
      "application/vnd.jupyter.widget-view+json": {
       "model_id": "46bd4737afa4465fbb6149d10145de76",
       "version_major": 2,
       "version_minor": 0
      },
      "text/plain": [
       "  0%|          | 0/27.0 [00:00<?, ?it/s]"
      ]
     },
     "metadata": {},
     "output_type": "display_data"
    },
    {
     "name": "stderr",
     "output_type": "stream",
     "text": [
      "/home/nwachukwu/anaconda3/lib/python3.9/site-packages/numpy/lib/nanfunctions.py:1544: RuntimeWarning: overflow encountered in multiply\n",
      "  sqr = np.multiply(arr, arr, out=arr)\n"
     ]
    },
    {
     "name": "stdout",
     "output_type": "stream",
     "text": [
      "366.7896269264363\n"
     ]
    },
    {
     "name": "stderr",
     "output_type": "stream",
     "text": [
      "/home/nwachukwu/anaconda3/lib/python3.9/site-packages/numpy/polynomial/chebyshev.py:1673: RankWarning: The fit may be poorly conditioned\n",
      "  return pu._fit(chebvander, x, y, deg, rcond, full, w)\n"
     ]
    },
    {
     "data": {
      "application/vnd.jupyter.widget-view+json": {
       "model_id": "66de4b555a9547c6ac34572434f6cac7",
       "version_major": 2,
       "version_minor": 0
      },
      "text/plain": [
       "  0%|          | 0/27.0 [00:00<?, ?it/s]"
      ]
     },
     "metadata": {},
     "output_type": "display_data"
    },
    {
     "name": "stderr",
     "output_type": "stream",
     "text": [
      "/home/nwachukwu/anaconda3/lib/python3.9/site-packages/numpy/lib/nanfunctions.py:1544: RuntimeWarning: overflow encountered in multiply\n",
      "  sqr = np.multiply(arr, arr, out=arr)\n"
     ]
    },
    {
     "name": "stdout",
     "output_type": "stream",
     "text": [
      "366.7896269264363\n"
     ]
    },
    {
     "name": "stderr",
     "output_type": "stream",
     "text": [
      "/home/nwachukwu/anaconda3/lib/python3.9/site-packages/numpy/polynomial/chebyshev.py:1673: RankWarning: The fit may be poorly conditioned\n",
      "  return pu._fit(chebvander, x, y, deg, rcond, full, w)\n"
     ]
    },
    {
     "data": {
      "application/vnd.jupyter.widget-view+json": {
       "model_id": "ab9f57c3f0224d51a95712ef76d4d120",
       "version_major": 2,
       "version_minor": 0
      },
      "text/plain": [
       "  0%|          | 0/27.0 [00:00<?, ?it/s]"
      ]
     },
     "metadata": {},
     "output_type": "display_data"
    },
    {
     "name": "stderr",
     "output_type": "stream",
     "text": [
      "/home/nwachukwu/anaconda3/lib/python3.9/site-packages/numpy/lib/nanfunctions.py:1544: RuntimeWarning: overflow encountered in multiply\n",
      "  sqr = np.multiply(arr, arr, out=arr)\n"
     ]
    },
    {
     "name": "stdout",
     "output_type": "stream",
     "text": [
      "366.7896269264363\n"
     ]
    },
    {
     "name": "stderr",
     "output_type": "stream",
     "text": [
      "/home/nwachukwu/anaconda3/lib/python3.9/site-packages/numpy/polynomial/chebyshev.py:1673: RankWarning: The fit may be poorly conditioned\n",
      "  return pu._fit(chebvander, x, y, deg, rcond, full, w)\n"
     ]
    },
    {
     "data": {
      "application/vnd.jupyter.widget-view+json": {
       "model_id": "443f3f2421434231b3aa79c0f264379e",
       "version_major": 2,
       "version_minor": 0
      },
      "text/plain": [
       "  0%|          | 0/27.0 [00:00<?, ?it/s]"
      ]
     },
     "metadata": {},
     "output_type": "display_data"
    },
    {
     "name": "stderr",
     "output_type": "stream",
     "text": [
      "/home/nwachukwu/anaconda3/lib/python3.9/site-packages/numpy/lib/nanfunctions.py:1544: RuntimeWarning: overflow encountered in multiply\n",
      "  sqr = np.multiply(arr, arr, out=arr)\n"
     ]
    },
    {
     "name": "stdout",
     "output_type": "stream",
     "text": [
      "366.7896269264363\n"
     ]
    },
    {
     "name": "stderr",
     "output_type": "stream",
     "text": [
      "/home/nwachukwu/anaconda3/lib/python3.9/site-packages/numpy/polynomial/chebyshev.py:1673: RankWarning: The fit may be poorly conditioned\n",
      "  return pu._fit(chebvander, x, y, deg, rcond, full, w)\n"
     ]
    },
    {
     "data": {
      "application/vnd.jupyter.widget-view+json": {
       "model_id": "006382e6111f4080983fd9aff7a81352",
       "version_major": 2,
       "version_minor": 0
      },
      "text/plain": [
       "  0%|          | 0/27.0 [00:00<?, ?it/s]"
      ]
     },
     "metadata": {},
     "output_type": "display_data"
    },
    {
     "name": "stderr",
     "output_type": "stream",
     "text": [
      "/home/nwachukwu/anaconda3/lib/python3.9/site-packages/numpy/lib/nanfunctions.py:1544: RuntimeWarning: overflow encountered in multiply\n",
      "  sqr = np.multiply(arr, arr, out=arr)\n"
     ]
    },
    {
     "name": "stdout",
     "output_type": "stream",
     "text": [
      "366.7896269264363\n"
     ]
    },
    {
     "name": "stderr",
     "output_type": "stream",
     "text": [
      "/home/nwachukwu/anaconda3/lib/python3.9/site-packages/numpy/polynomial/chebyshev.py:1673: RankWarning: The fit may be poorly conditioned\n",
      "  return pu._fit(chebvander, x, y, deg, rcond, full, w)\n"
     ]
    },
    {
     "data": {
      "application/vnd.jupyter.widget-view+json": {
       "model_id": "7eef26d445794a0abd42f5897f3528b0",
       "version_major": 2,
       "version_minor": 0
      },
      "text/plain": [
       "  0%|          | 0/27.0 [00:00<?, ?it/s]"
      ]
     },
     "metadata": {},
     "output_type": "display_data"
    },
    {
     "name": "stderr",
     "output_type": "stream",
     "text": [
      "/home/nwachukwu/anaconda3/lib/python3.9/site-packages/numpy/lib/nanfunctions.py:1544: RuntimeWarning: overflow encountered in multiply\n",
      "  sqr = np.multiply(arr, arr, out=arr)\n"
     ]
    },
    {
     "name": "stdout",
     "output_type": "stream",
     "text": [
      "366.7896269264363\n"
     ]
    },
    {
     "name": "stderr",
     "output_type": "stream",
     "text": [
      "/home/nwachukwu/anaconda3/lib/python3.9/site-packages/numpy/polynomial/chebyshev.py:1673: RankWarning: The fit may be poorly conditioned\n",
      "  return pu._fit(chebvander, x, y, deg, rcond, full, w)\n"
     ]
    },
    {
     "data": {
      "application/vnd.jupyter.widget-view+json": {
       "model_id": "d543cfa7bb924186b2b39d95c22fbaa9",
       "version_major": 2,
       "version_minor": 0
      },
      "text/plain": [
       "  0%|          | 0/27.0 [00:00<?, ?it/s]"
      ]
     },
     "metadata": {},
     "output_type": "display_data"
    },
    {
     "name": "stderr",
     "output_type": "stream",
     "text": [
      "/home/nwachukwu/anaconda3/lib/python3.9/site-packages/numpy/lib/nanfunctions.py:1544: RuntimeWarning: overflow encountered in multiply\n",
      "  sqr = np.multiply(arr, arr, out=arr)\n"
     ]
    },
    {
     "name": "stdout",
     "output_type": "stream",
     "text": [
      "366.7896269264363\n"
     ]
    },
    {
     "name": "stderr",
     "output_type": "stream",
     "text": [
      "/home/nwachukwu/anaconda3/lib/python3.9/site-packages/numpy/polynomial/chebyshev.py:1673: RankWarning: The fit may be poorly conditioned\n",
      "  return pu._fit(chebvander, x, y, deg, rcond, full, w)\n"
     ]
    },
    {
     "data": {
      "application/vnd.jupyter.widget-view+json": {
       "model_id": "c79edbfa541e416bbd7dffbf922019be",
       "version_major": 2,
       "version_minor": 0
      },
      "text/plain": [
       "  0%|          | 0/27.0 [00:00<?, ?it/s]"
      ]
     },
     "metadata": {},
     "output_type": "display_data"
    },
    {
     "name": "stderr",
     "output_type": "stream",
     "text": [
      "/home/nwachukwu/anaconda3/lib/python3.9/site-packages/numpy/lib/nanfunctions.py:1544: RuntimeWarning: overflow encountered in multiply\n",
      "  sqr = np.multiply(arr, arr, out=arr)\n"
     ]
    },
    {
     "name": "stdout",
     "output_type": "stream",
     "text": [
      "366.7896269264363\n"
     ]
    },
    {
     "name": "stderr",
     "output_type": "stream",
     "text": [
      "/home/nwachukwu/anaconda3/lib/python3.9/site-packages/numpy/polynomial/chebyshev.py:1673: RankWarning: The fit may be poorly conditioned\n",
      "  return pu._fit(chebvander, x, y, deg, rcond, full, w)\n"
     ]
    },
    {
     "data": {
      "application/vnd.jupyter.widget-view+json": {
       "model_id": "f56cc6169674439daafaac5019d313d4",
       "version_major": 2,
       "version_minor": 0
      },
      "text/plain": [
       "  0%|          | 0/27.0 [00:00<?, ?it/s]"
      ]
     },
     "metadata": {},
     "output_type": "display_data"
    },
    {
     "name": "stderr",
     "output_type": "stream",
     "text": [
      "/home/nwachukwu/anaconda3/lib/python3.9/site-packages/numpy/lib/nanfunctions.py:1544: RuntimeWarning: overflow encountered in multiply\n",
      "  sqr = np.multiply(arr, arr, out=arr)\n"
     ]
    },
    {
     "name": "stdout",
     "output_type": "stream",
     "text": [
      "366.7896269264363\n"
     ]
    },
    {
     "name": "stderr",
     "output_type": "stream",
     "text": [
      "/home/nwachukwu/anaconda3/lib/python3.9/site-packages/numpy/polynomial/chebyshev.py:1673: RankWarning: The fit may be poorly conditioned\n",
      "  return pu._fit(chebvander, x, y, deg, rcond, full, w)\n"
     ]
    },
    {
     "data": {
      "application/vnd.jupyter.widget-view+json": {
       "model_id": "74168ade82bc40849fc92f8593cfeee4",
       "version_major": 2,
       "version_minor": 0
      },
      "text/plain": [
       "  0%|          | 0/27.0 [00:00<?, ?it/s]"
      ]
     },
     "metadata": {},
     "output_type": "display_data"
    },
    {
     "name": "stderr",
     "output_type": "stream",
     "text": [
      "/home/nwachukwu/anaconda3/lib/python3.9/site-packages/numpy/lib/nanfunctions.py:1544: RuntimeWarning: overflow encountered in multiply\n",
      "  sqr = np.multiply(arr, arr, out=arr)\n"
     ]
    },
    {
     "ename": "ValueError",
     "evalue": "Input contains NaN, infinity or a value too large for dtype('float64').",
     "output_type": "error",
     "traceback": [
      "\u001b[0;31m---------------------------------------------------------------------------\u001b[0m",
      "\u001b[0;31mValueError\u001b[0m                                Traceback (most recent call last)",
      "\u001b[0;32m/tmp/ipykernel_584061/2292366644.py\u001b[0m in \u001b[0;36m<module>\u001b[0;34m\u001b[0m\n\u001b[1;32m     37\u001b[0m         \u001b[0mnormalizer\u001b[0m\u001b[0;34m=\u001b[0m\u001b[0mNormalizer\u001b[0m\u001b[0;34m(\u001b[0m\u001b[0;34m)\u001b[0m\u001b[0;34m\u001b[0m\u001b[0;34m\u001b[0m\u001b[0m\n\u001b[1;32m     38\u001b[0m         \u001b[0mnew_model\u001b[0m\u001b[0;34m=\u001b[0m\u001b[0mscaler\u001b[0m\u001b[0;34m.\u001b[0m\u001b[0mfit_transform\u001b[0m\u001b[0;34m(\u001b[0m\u001b[0mnew_model\u001b[0m\u001b[0;34m)\u001b[0m\u001b[0;34m\u001b[0m\u001b[0;34m\u001b[0m\u001b[0m\n\u001b[0;32m---> 39\u001b[0;31m         \u001b[0mnew_model\u001b[0m\u001b[0;34m=\u001b[0m\u001b[0mnormalizer\u001b[0m\u001b[0;34m.\u001b[0m\u001b[0mfit_transform\u001b[0m\u001b[0;34m(\u001b[0m\u001b[0mnew_model\u001b[0m\u001b[0;34m)\u001b[0m\u001b[0;34m\u001b[0m\u001b[0;34m\u001b[0m\u001b[0m\n\u001b[0m\u001b[1;32m     40\u001b[0m         \u001b[0maic_score\u001b[0m \u001b[0;34m=\u001b[0m \u001b[0maic\u001b[0m\u001b[0;34m(\u001b[0m\u001b[0mnew_model\u001b[0m\u001b[0;34m,\u001b[0m\u001b[0mdPt\u001b[0m\u001b[0;34m.\u001b[0m\u001b[0mreal\u001b[0m\u001b[0;34m,\u001b[0m\u001b[0mk\u001b[0m\u001b[0;34m=\u001b[0m\u001b[0mlen\u001b[0m\u001b[0;34m(\u001b[0m\u001b[0mw\u001b[0m\u001b[0;34m)\u001b[0m\u001b[0;34m)\u001b[0m\u001b[0;34m\u001b[0m\u001b[0;34m\u001b[0m\u001b[0m\n\u001b[1;32m     41\u001b[0m         \u001b[0;32mif\u001b[0m \u001b[0maic_score\u001b[0m \u001b[0;34m<\u001b[0m \u001b[0;36m10\u001b[0m\u001b[0;34m:\u001b[0m\u001b[0;34m\u001b[0m\u001b[0;34m\u001b[0m\u001b[0m\n",
      "\u001b[0;32m~/anaconda3/lib/python3.9/site-packages/sklearn/base.py\u001b[0m in \u001b[0;36mfit_transform\u001b[0;34m(self, X, y, **fit_params)\u001b[0m\n\u001b[1;32m    697\u001b[0m         \u001b[0;32mif\u001b[0m \u001b[0my\u001b[0m \u001b[0;32mis\u001b[0m \u001b[0;32mNone\u001b[0m\u001b[0;34m:\u001b[0m\u001b[0;34m\u001b[0m\u001b[0;34m\u001b[0m\u001b[0m\n\u001b[1;32m    698\u001b[0m             \u001b[0;31m# fit method of arity 1 (unsupervised transformation)\u001b[0m\u001b[0;34m\u001b[0m\u001b[0;34m\u001b[0m\u001b[0m\n\u001b[0;32m--> 699\u001b[0;31m             \u001b[0;32mreturn\u001b[0m \u001b[0mself\u001b[0m\u001b[0;34m.\u001b[0m\u001b[0mfit\u001b[0m\u001b[0;34m(\u001b[0m\u001b[0mX\u001b[0m\u001b[0;34m,\u001b[0m \u001b[0;34m**\u001b[0m\u001b[0mfit_params\u001b[0m\u001b[0;34m)\u001b[0m\u001b[0;34m.\u001b[0m\u001b[0mtransform\u001b[0m\u001b[0;34m(\u001b[0m\u001b[0mX\u001b[0m\u001b[0;34m)\u001b[0m\u001b[0;34m\u001b[0m\u001b[0;34m\u001b[0m\u001b[0m\n\u001b[0m\u001b[1;32m    700\u001b[0m         \u001b[0;32melse\u001b[0m\u001b[0;34m:\u001b[0m\u001b[0;34m\u001b[0m\u001b[0;34m\u001b[0m\u001b[0m\n\u001b[1;32m    701\u001b[0m             \u001b[0;31m# fit method of arity 2 (supervised transformation)\u001b[0m\u001b[0;34m\u001b[0m\u001b[0;34m\u001b[0m\u001b[0m\n",
      "\u001b[0;32m~/anaconda3/lib/python3.9/site-packages/sklearn/preprocessing/_data.py\u001b[0m in \u001b[0;36mfit\u001b[0;34m(self, X, y)\u001b[0m\n\u001b[1;32m   2024\u001b[0m             \u001b[0mFitted\u001b[0m \u001b[0mtransformer\u001b[0m\u001b[0;34m.\u001b[0m\u001b[0;34m\u001b[0m\u001b[0;34m\u001b[0m\u001b[0m\n\u001b[1;32m   2025\u001b[0m         \"\"\"\n\u001b[0;32m-> 2026\u001b[0;31m         \u001b[0mself\u001b[0m\u001b[0;34m.\u001b[0m\u001b[0m_validate_data\u001b[0m\u001b[0;34m(\u001b[0m\u001b[0mX\u001b[0m\u001b[0;34m,\u001b[0m \u001b[0maccept_sparse\u001b[0m\u001b[0;34m=\u001b[0m\u001b[0;34m'csr'\u001b[0m\u001b[0;34m)\u001b[0m\u001b[0;34m\u001b[0m\u001b[0;34m\u001b[0m\u001b[0m\n\u001b[0m\u001b[1;32m   2027\u001b[0m         \u001b[0;32mreturn\u001b[0m \u001b[0mself\u001b[0m\u001b[0;34m\u001b[0m\u001b[0;34m\u001b[0m\u001b[0m\n\u001b[1;32m   2028\u001b[0m \u001b[0;34m\u001b[0m\u001b[0m\n",
      "\u001b[0;32m~/anaconda3/lib/python3.9/site-packages/sklearn/base.py\u001b[0m in \u001b[0;36m_validate_data\u001b[0;34m(self, X, y, reset, validate_separately, **check_params)\u001b[0m\n\u001b[1;32m    419\u001b[0m             \u001b[0mout\u001b[0m \u001b[0;34m=\u001b[0m \u001b[0mX\u001b[0m\u001b[0;34m\u001b[0m\u001b[0;34m\u001b[0m\u001b[0m\n\u001b[1;32m    420\u001b[0m         \u001b[0;32melif\u001b[0m \u001b[0misinstance\u001b[0m\u001b[0;34m(\u001b[0m\u001b[0my\u001b[0m\u001b[0;34m,\u001b[0m \u001b[0mstr\u001b[0m\u001b[0;34m)\u001b[0m \u001b[0;32mand\u001b[0m \u001b[0my\u001b[0m \u001b[0;34m==\u001b[0m \u001b[0;34m'no_validation'\u001b[0m\u001b[0;34m:\u001b[0m\u001b[0;34m\u001b[0m\u001b[0;34m\u001b[0m\u001b[0m\n\u001b[0;32m--> 421\u001b[0;31m             \u001b[0mX\u001b[0m \u001b[0;34m=\u001b[0m \u001b[0mcheck_array\u001b[0m\u001b[0;34m(\u001b[0m\u001b[0mX\u001b[0m\u001b[0;34m,\u001b[0m \u001b[0;34m**\u001b[0m\u001b[0mcheck_params\u001b[0m\u001b[0;34m)\u001b[0m\u001b[0;34m\u001b[0m\u001b[0;34m\u001b[0m\u001b[0m\n\u001b[0m\u001b[1;32m    422\u001b[0m             \u001b[0mout\u001b[0m \u001b[0;34m=\u001b[0m \u001b[0mX\u001b[0m\u001b[0;34m\u001b[0m\u001b[0;34m\u001b[0m\u001b[0m\n\u001b[1;32m    423\u001b[0m         \u001b[0;32melse\u001b[0m\u001b[0;34m:\u001b[0m\u001b[0;34m\u001b[0m\u001b[0;34m\u001b[0m\u001b[0m\n",
      "\u001b[0;32m~/anaconda3/lib/python3.9/site-packages/sklearn/utils/validation.py\u001b[0m in \u001b[0;36minner_f\u001b[0;34m(*args, **kwargs)\u001b[0m\n\u001b[1;32m     61\u001b[0m             \u001b[0mextra_args\u001b[0m \u001b[0;34m=\u001b[0m \u001b[0mlen\u001b[0m\u001b[0;34m(\u001b[0m\u001b[0margs\u001b[0m\u001b[0;34m)\u001b[0m \u001b[0;34m-\u001b[0m \u001b[0mlen\u001b[0m\u001b[0;34m(\u001b[0m\u001b[0mall_args\u001b[0m\u001b[0;34m)\u001b[0m\u001b[0;34m\u001b[0m\u001b[0;34m\u001b[0m\u001b[0m\n\u001b[1;32m     62\u001b[0m             \u001b[0;32mif\u001b[0m \u001b[0mextra_args\u001b[0m \u001b[0;34m<=\u001b[0m \u001b[0;36m0\u001b[0m\u001b[0;34m:\u001b[0m\u001b[0;34m\u001b[0m\u001b[0;34m\u001b[0m\u001b[0m\n\u001b[0;32m---> 63\u001b[0;31m                 \u001b[0;32mreturn\u001b[0m \u001b[0mf\u001b[0m\u001b[0;34m(\u001b[0m\u001b[0;34m*\u001b[0m\u001b[0margs\u001b[0m\u001b[0;34m,\u001b[0m \u001b[0;34m**\u001b[0m\u001b[0mkwargs\u001b[0m\u001b[0;34m)\u001b[0m\u001b[0;34m\u001b[0m\u001b[0;34m\u001b[0m\u001b[0m\n\u001b[0m\u001b[1;32m     64\u001b[0m \u001b[0;34m\u001b[0m\u001b[0m\n\u001b[1;32m     65\u001b[0m             \u001b[0;31m# extra_args > 0\u001b[0m\u001b[0;34m\u001b[0m\u001b[0;34m\u001b[0m\u001b[0m\n",
      "\u001b[0;32m~/anaconda3/lib/python3.9/site-packages/sklearn/utils/validation.py\u001b[0m in \u001b[0;36mcheck_array\u001b[0;34m(array, accept_sparse, accept_large_sparse, dtype, order, copy, force_all_finite, ensure_2d, allow_nd, ensure_min_samples, ensure_min_features, estimator)\u001b[0m\n\u001b[1;32m    718\u001b[0m \u001b[0;34m\u001b[0m\u001b[0m\n\u001b[1;32m    719\u001b[0m         \u001b[0;32mif\u001b[0m \u001b[0mforce_all_finite\u001b[0m\u001b[0;34m:\u001b[0m\u001b[0;34m\u001b[0m\u001b[0;34m\u001b[0m\u001b[0m\n\u001b[0;32m--> 720\u001b[0;31m             _assert_all_finite(array,\n\u001b[0m\u001b[1;32m    721\u001b[0m                                allow_nan=force_all_finite == 'allow-nan')\n\u001b[1;32m    722\u001b[0m \u001b[0;34m\u001b[0m\u001b[0m\n",
      "\u001b[0;32m~/anaconda3/lib/python3.9/site-packages/sklearn/utils/validation.py\u001b[0m in \u001b[0;36m_assert_all_finite\u001b[0;34m(X, allow_nan, msg_dtype)\u001b[0m\n\u001b[1;32m    101\u001b[0m                 not allow_nan and not np.isfinite(X).all()):\n\u001b[1;32m    102\u001b[0m             \u001b[0mtype_err\u001b[0m \u001b[0;34m=\u001b[0m \u001b[0;34m'infinity'\u001b[0m \u001b[0;32mif\u001b[0m \u001b[0mallow_nan\u001b[0m \u001b[0;32melse\u001b[0m \u001b[0;34m'NaN, infinity'\u001b[0m\u001b[0;34m\u001b[0m\u001b[0;34m\u001b[0m\u001b[0m\n\u001b[0;32m--> 103\u001b[0;31m             raise ValueError(\n\u001b[0m\u001b[1;32m    104\u001b[0m                     \u001b[0mmsg_err\u001b[0m\u001b[0;34m.\u001b[0m\u001b[0mformat\u001b[0m\u001b[0;34m\u001b[0m\u001b[0;34m\u001b[0m\u001b[0m\n\u001b[1;32m    105\u001b[0m                     (type_err,\n",
      "\u001b[0;31mValueError\u001b[0m: Input contains NaN, infinity or a value too large for dtype('float64')."
     ]
    }
   ],
   "source": [
    "Model = []\n",
    "AIC = []\n",
    "for dx in np.linspace(0.,5,10):\n",
    "    for dt in np.linspace(0,5,10):\n",
    "        if dx ==0. or dt ==0.:\n",
    "            continue\n",
    "        dPt,R,rhs_des = build_linear_system(Pt, dt=3.0, dx=dx, D=2, P=2, time_diff = 'poly', \n",
    "                                            space_diff='poly', deg_x = 10, deg_t=3)\n",
    "        # Theta columns\n",
    "\n",
    "        col_1s = R[:,0] # column of 1s\n",
    "        col_p = R[:, 1] # column p\n",
    "        col_p_x = R[:,3] # column p_x\n",
    "        col_xp_x = np.multiply(trim_x,col_p_x) # column xp_x\n",
    "        col_p_xx = R[:,6]\n",
    "\n",
    "        # Theta\n",
    "        Theta = np.column_stack((col_1s,col_p, col_p_x, col_xp_x, col_p_xx))\n",
    "\n",
    "    #     Theta.shape\n",
    "\n",
    "        ptrain, ptest, dPt_train, dPt_test = split_data(Theta,dPt,0.8)\n",
    "\n",
    "        w = TrainSTRidge(ptrain,dPt_train,0.0001,0,maxit=25,STR_iters=50,print_best_tol=True,normalize=2)\n",
    "        Model.append(w)\n",
    "\n",
    "        c1 = round(w[0].real[0],4)\n",
    "        c2 = round(w[1].real[0],4)\n",
    "        c3 = round(w[2].real[0],4)\n",
    "        c4 = round(w[3].real[0],4)\n",
    "        c5 = round(w[4].real[0],4)\n",
    "\n",
    "        new_model = learned_model(c1,c2,c3,c4,c5)\n",
    "        new_model = np.array(new_model)\n",
    "        new_model = new_model[2:-3,15:-15].reshape(2760,1)\n",
    "        scaler = StandardScaler()\n",
    "        #normalizer=Normalizer()\n",
    "        new_model=scaler.fit_transform(new_model)\n",
    "        #new_model=normalizer.fit_transform(new_model)\n",
    "        aic_score = aic(new_model,dPt.real,k=len(w))\n",
    "        if aic_score < 10:\n",
    "            break\n",
    "        print(aic_score)\n",
    "        AIC.append(aic_score)"
   ]
  },
  {
   "cell_type": "code",
   "execution_count": 23,
   "id": "08237bc9",
   "metadata": {},
   "outputs": [
    {
     "data": {
      "text/plain": [
       "array([[-0.02230996+0.j],\n",
       "       [-0.01425091+0.j],\n",
       "       [ 0.11050804+0.j],\n",
       "       [ 0.00125945+0.j],\n",
       "       [-0.08241356+0.j]])"
      ]
     },
     "execution_count": 23,
     "metadata": {},
     "output_type": "execute_result"
    }
   ],
   "source": [
    "Model[-1]"
   ]
  },
  {
   "cell_type": "code",
   "execution_count": 22,
   "id": "c644ceba",
   "metadata": {
    "collapsed": true
   },
   "outputs": [
    {
     "data": {
      "text/plain": [
       "[2133.0245347482123,\n",
       " 2133.0245347482123,\n",
       " 2133.0245347482123,\n",
       " 2133.0245347482123,\n",
       " 2133.0245347482123,\n",
       " 2133.024534744441,\n",
       " 2133.024534744441,\n",
       " 2133.0245347482123,\n",
       " 2133.024534744441,\n",
       " 2113.900957781071,\n",
       " 2113.900957781071,\n",
       " 2113.900957781071,\n",
       " 2113.900957781071,\n",
       " 2113.900957781071,\n",
       " 2113.900957781071,\n",
       " 2113.900957781071,\n",
       " 2113.900957781071,\n",
       " 2113.900957781071,\n",
       " 366.7896269264363,\n",
       " 366.7896269264363,\n",
       " 366.7896269264363,\n",
       " 366.7896269264363,\n",
       " 366.7896269264363,\n",
       " 366.7896269264363,\n",
       " 366.7896269264363,\n",
       " 366.7896269264363,\n",
       " 366.7896269264363,\n",
       " nan,\n",
       " nan,\n",
       " nan,\n",
       " nan,\n",
       " nan,\n",
       " nan,\n",
       " nan,\n",
       " nan,\n",
       " nan,\n",
       " nan,\n",
       " nan,\n",
       " nan,\n",
       " nan,\n",
       " nan,\n",
       " nan,\n",
       " nan,\n",
       " nan,\n",
       " nan,\n",
       " nan,\n",
       " nan,\n",
       " nan,\n",
       " nan,\n",
       " nan,\n",
       " nan,\n",
       " nan,\n",
       " nan,\n",
       " nan,\n",
       " nan,\n",
       " nan,\n",
       " nan,\n",
       " nan,\n",
       " nan,\n",
       " nan,\n",
       " nan,\n",
       " nan,\n",
       " nan,\n",
       " nan,\n",
       " nan,\n",
       " nan,\n",
       " nan,\n",
       " nan,\n",
       " nan,\n",
       " nan,\n",
       " nan,\n",
       " nan,\n",
       " nan,\n",
       " nan,\n",
       " nan,\n",
       " nan,\n",
       " nan,\n",
       " nan,\n",
       " nan,\n",
       " nan,\n",
       " nan]"
      ]
     },
     "execution_count": 22,
     "metadata": {},
     "output_type": "execute_result"
    }
   ],
   "source": [
    "import seaborn as sns\n",
    "def get_lower_tri_heatmap(cc_matrix):\n",
    "    mask = np.zeros_like(cc_matrix, dtype=np.bool)\n",
    "    mask[np.triu_indices_from(mask)] = True\n",
    "\n",
    "    # Want diagonal elements as well\n",
    "    mask[np.diag_indices_from(mask)] = False\n",
    "\n",
    "    # Set up the matplotlib figure\n",
    "    f, ax = plt.subplots(figsize=(12, 11))\n",
    "\n",
    "    # Generate a custom diverging colormap\n",
    "    cmap = sns.diverging_palette(220, 10, as_cmap=True)\n",
    "\n",
    "    # Draw the heatmap with the mask and correct aspect ratio\n",
    "    label = ['Ground Truth Alert', 'PSS', 'CADA-leiden', 'CADA-spec', 'Oddball subject CS', 'Oddball subject HV', 'Oddball subject DP', 'Oddball service HV', 'Oddball service DP']\n",
    "    heatmap = sns.heatmap(cc_matrix,\n",
    "                      mask = mask,\n",
    "                      square = True,\n",
    "                      linewidths = .5,\n",
    "                      cmap = 'coolwarm',\n",
    "                      cbar_kws = {'shrink': 1,\n",
    "                                'ticks' : [-1, -.5, 0, 0.5, 1]},\n",
    "                      vmin = -1,\n",
    "                      vmax = 1,\n",
    "                      annot = True,\n",
    "                      annot_kws = {'size': 12},\n",
    "                        \n",
    "                      xticklabels = label,\n",
    "                      yticklabels = label)"
   ]
  },
  {
   "cell_type": "code",
   "execution_count": null,
   "id": "64960654",
   "metadata": {},
   "outputs": [],
   "source": [
    "all_scores_with_y = np.column_stack((TRUE_score, all_scores))\n",
    "matrix = cc_matrix(all_scores_with_y)\n",
    "get_lower_tri_heatmap(matrix)"
   ]
  },
  {
   "cell_type": "code",
   "execution_count": 228,
   "id": "a463bf94",
   "metadata": {},
   "outputs": [
    {
     "data": {
      "text/plain": [
       "array([[ 5.3489099e+00],\n",
       "       [ 3.1784117e+00],\n",
       "       [ 2.0183485e+00],\n",
       "       ...,\n",
       "       [-4.0130909e-03],\n",
       "       [-8.0205640e-03],\n",
       "       [-8.0261817e-03]], dtype=float32)"
      ]
     },
     "execution_count": 228,
     "metadata": {},
     "output_type": "execute_result"
    }
   ],
   "source": [
    "dPt.real"
   ]
  },
  {
   "cell_type": "code",
   "execution_count": 239,
   "id": "a4f4d9ee",
   "metadata": {},
   "outputs": [
    {
     "data": {
      "text/plain": [
       "[498.612053829893,\n",
       " 536.7775528504891,\n",
       " 537.5241361727315,\n",
       " 535.3678003813153,\n",
       " 538.0644613566961,\n",
       " 539.316790455053,\n",
       " 539.1676898344738,\n",
       " 538.1130152875648,\n",
       " 536.6933998633223,\n",
       " 535.1958759252972,\n",
       " 533.8701686537015,\n",
       " 532.5609124985967,\n",
       " 531.5952973355422,\n",
       " 97.19740673160908,\n",
       " 97.19740673160908,\n",
       " 97.19740673160908,\n",
       " 97.19740673160908,\n",
       " 97.19740673160908,\n",
       " 97.19740673160908,\n",
       " 97.19740673160908,\n",
       " nan,\n",
       " nan,\n",
       " nan,\n",
       " nan,\n",
       " nan,\n",
       " nan,\n",
       " nan,\n",
       " nan]"
      ]
     },
     "execution_count": 239,
     "metadata": {},
     "output_type": "execute_result"
    }
   ],
   "source": [
    "AIC"
   ]
  },
  {
   "cell_type": "code",
   "execution_count": 244,
   "id": "1d21a589",
   "metadata": {},
   "outputs": [
    {
     "name": "stdout",
     "output_type": "stream",
     "text": [
      "u_t = (-0.022310 +0.000000i)\n",
      "    + (-0.014251 +0.000000i)p\n",
      "    + (0.033829 +0.000000i)p_{x}\n",
      "    + (0.000386 +0.000000i)xp_{x}\n",
      "    + (-0.007723 +0.000000i)p_{xx}\n",
      "   \n"
     ]
    }
   ],
   "source": [
    "print_pde(Model[14],fpe_rhs_desc)"
   ]
  },
  {
   "cell_type": "code",
   "execution_count": null,
   "id": "1a680d83",
   "metadata": {},
   "outputs": [],
   "source": []
  },
  {
   "cell_type": "code",
   "execution_count": null,
   "id": "59e89da4",
   "metadata": {},
   "outputs": [],
   "source": []
  },
  {
   "cell_type": "code",
   "execution_count": null,
   "id": "96c27594",
   "metadata": {},
   "outputs": [],
   "source": []
  },
  {
   "cell_type": "code",
   "execution_count": null,
   "id": "40b2132d",
   "metadata": {},
   "outputs": [],
   "source": []
  },
  {
   "cell_type": "code",
   "execution_count": null,
   "id": "0a379c17",
   "metadata": {},
   "outputs": [],
   "source": []
  },
  {
   "cell_type": "code",
   "execution_count": null,
   "id": "73f82303",
   "metadata": {},
   "outputs": [],
   "source": []
  },
  {
   "cell_type": "code",
   "execution_count": null,
   "id": "e0fa4337",
   "metadata": {},
   "outputs": [],
   "source": []
  },
  {
   "cell_type": "code",
   "execution_count": null,
   "id": "cd844d21",
   "metadata": {},
   "outputs": [],
   "source": []
  },
  {
   "cell_type": "code",
   "execution_count": null,
   "id": "f1c78521",
   "metadata": {},
   "outputs": [],
   "source": []
  },
  {
   "cell_type": "code",
   "execution_count": null,
   "id": "b05f7114",
   "metadata": {},
   "outputs": [],
   "source": []
  },
  {
   "cell_type": "code",
   "execution_count": null,
   "id": "0caf8b0e",
   "metadata": {},
   "outputs": [],
   "source": []
  },
  {
   "cell_type": "code",
   "execution_count": null,
   "id": "a74061d6",
   "metadata": {},
   "outputs": [],
   "source": []
  },
  {
   "cell_type": "code",
   "execution_count": null,
   "id": "a3662b2d",
   "metadata": {},
   "outputs": [],
   "source": []
  },
  {
   "cell_type": "code",
   "execution_count": null,
   "id": "d3c42b87",
   "metadata": {},
   "outputs": [],
   "source": []
  },
  {
   "cell_type": "code",
   "execution_count": null,
   "id": "58f1127a",
   "metadata": {},
   "outputs": [],
   "source": []
  },
  {
   "cell_type": "code",
   "execution_count": 159,
   "id": "bd7ea117",
   "metadata": {},
   "outputs": [
    {
     "data": {
      "text/plain": [
       "(552, 1)"
      ]
     },
     "execution_count": 159,
     "metadata": {},
     "output_type": "execute_result"
    }
   ],
   "source": [
    "dPt_test.shape"
   ]
  },
  {
   "cell_type": "code",
   "execution_count": null,
   "id": "63227e3d",
   "metadata": {},
   "outputs": [],
   "source": []
  },
  {
   "cell_type": "code",
   "execution_count": null,
   "id": "df9aa595",
   "metadata": {},
   "outputs": [],
   "source": []
  },
  {
   "cell_type": "code",
   "execution_count": null,
   "id": "8cbc2560",
   "metadata": {},
   "outputs": [],
   "source": []
  },
  {
   "cell_type": "code",
   "execution_count": 100,
   "id": "c2481ba3",
   "metadata": {},
   "outputs": [
    {
     "data": {
      "text/plain": [
       "(27, 150)"
      ]
     },
     "execution_count": 100,
     "metadata": {},
     "output_type": "execute_result"
    }
   ],
   "source": [
    "Pt.shape"
   ]
  },
  {
   "cell_type": "code",
   "execution_count": 101,
   "id": "9ae2ed3e",
   "metadata": {},
   "outputs": [
    {
     "data": {
      "text/plain": [
       "(552, 5)"
      ]
     },
     "execution_count": 101,
     "metadata": {},
     "output_type": "execute_result"
    }
   ],
   "source": [
    "ptest.shape"
   ]
  },
  {
   "cell_type": "code",
   "execution_count": 102,
   "id": "116b8a17",
   "metadata": {},
   "outputs": [
    {
     "data": {
      "text/plain": [
       "(2760, 5)"
      ]
     },
     "execution_count": 102,
     "metadata": {},
     "output_type": "execute_result"
    }
   ],
   "source": [
    "Theta.shape"
   ]
  },
  {
   "cell_type": "code",
   "execution_count": 103,
   "id": "46253295",
   "metadata": {},
   "outputs": [
    {
     "data": {
      "text/plain": [
       "2760"
      ]
     },
     "execution_count": 103,
     "metadata": {},
     "output_type": "execute_result"
    }
   ],
   "source": [
    "120*23"
   ]
  },
  {
   "cell_type": "code",
   "execution_count": 112,
   "id": "920f9be1",
   "metadata": {},
   "outputs": [
    {
     "data": {
      "text/plain": [
       "(23, 120)"
      ]
     },
     "execution_count": 112,
     "metadata": {},
     "output_type": "execute_result"
    }
   ],
   "source": [
    "learned_pt[2:-3,15:-15].shape"
   ]
  },
  {
   "cell_type": "code",
   "execution_count": 115,
   "id": "df846039",
   "metadata": {},
   "outputs": [
    {
     "data": {
      "text/plain": [
       "(2760,)"
      ]
     },
     "execution_count": 115,
     "metadata": {},
     "output_type": "execute_result"
    }
   ],
   "source": [
    "lll = learned_pt[2:-3,15:-15].flatten()\n",
    "lll.shape\n"
   ]
  },
  {
   "cell_type": "code",
   "execution_count": 117,
   "id": "c4ffe9e1",
   "metadata": {},
   "outputs": [
    {
     "ename": "ValueError",
     "evalue": "not enough values to unpack (expected 2, got 1)",
     "output_type": "error",
     "traceback": [
      "\u001b[0;31m---------------------------------------------------------------------------\u001b[0m",
      "\u001b[0;31mValueError\u001b[0m                                Traceback (most recent call last)",
      "\u001b[0;32m/tmp/ipykernel_548092/2725662111.py\u001b[0m in \u001b[0;36m<module>\u001b[0;34m\u001b[0m\n\u001b[0;32m----> 1\u001b[0;31m \u001b[0mj\u001b[0m\u001b[0;34m,\u001b[0m\u001b[0mi\u001b[0m \u001b[0;34m=\u001b[0m \u001b[0mlll\u001b[0m\u001b[0;34m.\u001b[0m\u001b[0mshape\u001b[0m\u001b[0;34m\u001b[0m\u001b[0;34m\u001b[0m\u001b[0m\n\u001b[0m",
      "\u001b[0;31mValueError\u001b[0m: not enough values to unpack (expected 2, got 1)"
     ]
    }
   ],
   "source": [
    "j,i = lll.shape"
   ]
  },
  {
   "cell_type": "code",
   "execution_count": 9,
   "id": "9e47e4f1",
   "metadata": {},
   "outputs": [],
   "source": [
    "def learned_model(c1,c2,c3,c4,c5):\n",
    "    grid = pde.CartesianGrid([[-3,3]], 150)  # generate grid for x axis\n",
    "    field = pde.ScalarField(grid,)\n",
    "\n",
    "    #initial condition using delta function\n",
    "    field.insert([0], 1)\n",
    "\n",
    "    # No flux bc\n",
    "    bc_lower = {\"value\": 0}\n",
    "    bc_upper = {\"derivative\": 0}\n",
    "    bc = [bc_lower, bc_upper]\n",
    "\n",
    "    # pde definition\n",
    "    eq = pde.PDE({\"p\": \"c1 +c2*p + d_dx(p * (c3 - c4*x)) + (c5 * laplace(p))\"}, bc=bc,\n",
    "                consts={'c1':c1, 'c2':c2,'c3':c3,'c4':c4,'c5':c5})#(0.14-(0.13*x))\n",
    "\n",
    "    # data collection\n",
    "    storage = pde.MemoryStorage()\n",
    "    trackers = [\n",
    "        \"progress\",  # show progress bar during simulation\n",
    "        \"steady_state\",  # abort when steady state is reached\n",
    "        storage.tracker(interval=0.0001),  # store data every simulation time unit\n",
    "        pde.PlotTracker(show=True),  # show images during simulation\n",
    "        # print some output every 5 real seconds:\n",
    "        pde.PrintTracker(interval=pde.RealtimeIntervals(duration=2)),\n",
    "    ]\n",
    "\n",
    "    #solve the PDE\n",
    "    res = eq.solve(field, 27, dt=0.01, tracker=[\"progress\", storage.tracker(1.0)])  #  [\"progress\", storage.tracker(0.0001)]\n",
    "\n",
    "    return storage.data"
   ]
  },
  {
   "cell_type": "code",
   "execution_count": null,
   "id": "569b6675",
   "metadata": {},
   "outputs": [],
   "source": [
    "consts={'c1':-0.022, 'c2':-0.01,'c3':0.06631,'c4':0.0008,'c5':0.03})#(0.14-(0.13*x))\n"
   ]
  },
  {
   "cell_type": "code",
   "execution_count": 187,
   "id": "f8d7e37b",
   "metadata": {
    "collapsed": true
   },
   "outputs": [
    {
     "data": {
      "application/vnd.jupyter.widget-view+json": {
       "model_id": "6aa65beb1da34a7cb508046a8989677b",
       "version_major": 2,
       "version_minor": 0
      },
      "text/plain": [
       "  0%|          | 0/27.0 [00:00<?, ?it/s]"
      ]
     },
     "metadata": {},
     "output_type": "display_data"
    },
    {
     "ename": "TypeError",
     "evalue": "Constant has unsupported type <class 'numpy.ndarray'>",
     "output_type": "error",
     "traceback": [
      "\u001b[0;31m---------------------------------------------------------------------------\u001b[0m",
      "\u001b[0;31mTypeError\u001b[0m                                 Traceback (most recent call last)",
      "\u001b[0;32m/tmp/ipykernel_548092/139246875.py\u001b[0m in \u001b[0;36m<module>\u001b[0;34m\u001b[0m\n\u001b[0;32m----> 1\u001b[0;31m \u001b[0mrrr\u001b[0m \u001b[0;34m=\u001b[0m \u001b[0mlearned_model\u001b[0m\u001b[0;34m(\u001b[0m\u001b[0mw\u001b[0m\u001b[0;34m[\u001b[0m\u001b[0;36m0\u001b[0m\u001b[0;34m]\u001b[0m\u001b[0;34m.\u001b[0m\u001b[0mreal\u001b[0m\u001b[0;34m,\u001b[0m\u001b[0;34m-\u001b[0m\u001b[0;36m.01\u001b[0m\u001b[0;34m,\u001b[0m\u001b[0;36m.06631\u001b[0m\u001b[0;34m,\u001b[0m\u001b[0;36m.0008\u001b[0m\u001b[0;34m,\u001b[0m\u001b[0;36m.03\u001b[0m\u001b[0;34m)\u001b[0m\u001b[0;34m\u001b[0m\u001b[0;34m\u001b[0m\u001b[0m\n\u001b[0m",
      "\u001b[0;32m/tmp/ipykernel_548092/99138419.py\u001b[0m in \u001b[0;36mlearned_model\u001b[0;34m(c1, c2, c3, c4, c5)\u001b[0m\n\u001b[1;32m     27\u001b[0m \u001b[0;34m\u001b[0m\u001b[0m\n\u001b[1;32m     28\u001b[0m     \u001b[0;31m#solve the PDE\u001b[0m\u001b[0;34m\u001b[0m\u001b[0;34m\u001b[0m\u001b[0m\n\u001b[0;32m---> 29\u001b[0;31m     \u001b[0mres\u001b[0m \u001b[0;34m=\u001b[0m \u001b[0meq\u001b[0m\u001b[0;34m.\u001b[0m\u001b[0msolve\u001b[0m\u001b[0;34m(\u001b[0m\u001b[0mfield\u001b[0m\u001b[0;34m,\u001b[0m \u001b[0;36m27\u001b[0m\u001b[0;34m,\u001b[0m \u001b[0mdt\u001b[0m\u001b[0;34m=\u001b[0m\u001b[0;36m0.01\u001b[0m\u001b[0;34m,\u001b[0m \u001b[0mtracker\u001b[0m\u001b[0;34m=\u001b[0m\u001b[0;34m[\u001b[0m\u001b[0;34m\"progress\"\u001b[0m\u001b[0;34m,\u001b[0m \u001b[0mstorage\u001b[0m\u001b[0;34m.\u001b[0m\u001b[0mtracker\u001b[0m\u001b[0;34m(\u001b[0m\u001b[0;36m1.0\u001b[0m\u001b[0;34m)\u001b[0m\u001b[0;34m]\u001b[0m\u001b[0;34m)\u001b[0m  \u001b[0;31m#  [\"progress\", storage.tracker(0.0001)]\u001b[0m\u001b[0;34m\u001b[0m\u001b[0;34m\u001b[0m\u001b[0m\n\u001b[0m\u001b[1;32m     30\u001b[0m \u001b[0;34m\u001b[0m\u001b[0m\n\u001b[1;32m     31\u001b[0m     \u001b[0;32mreturn\u001b[0m \u001b[0mstorage\u001b[0m\u001b[0;34m.\u001b[0m\u001b[0mdata\u001b[0m\u001b[0;34m\u001b[0m\u001b[0;34m\u001b[0m\u001b[0m\n",
      "\u001b[0;32m~/anaconda3/lib/python3.9/site-packages/pde/pdes/base.py\u001b[0m in \u001b[0;36msolve\u001b[0;34m(self, state, t_range, dt, tracker, method, ret_info, **kwargs)\u001b[0m\n\u001b[1;32m    556\u001b[0m \u001b[0;34m\u001b[0m\u001b[0m\n\u001b[1;32m    557\u001b[0m         \u001b[0;31m# run the simulation\u001b[0m\u001b[0;34m\u001b[0m\u001b[0;34m\u001b[0m\u001b[0m\n\u001b[0;32m--> 558\u001b[0;31m         \u001b[0mfinal_state\u001b[0m \u001b[0;34m=\u001b[0m \u001b[0mcontroller\u001b[0m\u001b[0;34m.\u001b[0m\u001b[0mrun\u001b[0m\u001b[0;34m(\u001b[0m\u001b[0mstate\u001b[0m\u001b[0;34m,\u001b[0m \u001b[0mdt\u001b[0m\u001b[0;34m)\u001b[0m\u001b[0;34m\u001b[0m\u001b[0;34m\u001b[0m\u001b[0m\n\u001b[0m\u001b[1;32m    559\u001b[0m \u001b[0;34m\u001b[0m\u001b[0m\n\u001b[1;32m    560\u001b[0m         \u001b[0;32mif\u001b[0m \u001b[0mret_info\u001b[0m\u001b[0;34m:\u001b[0m\u001b[0;34m\u001b[0m\u001b[0;34m\u001b[0m\u001b[0m\n",
      "\u001b[0;32m~/anaconda3/lib/python3.9/site-packages/pde/solvers/controller.py\u001b[0m in \u001b[0;36mrun\u001b[0;34m(self, state, dt)\u001b[0m\n\u001b[1;32m    162\u001b[0m         \u001b[0;31m# initialize the stepper\u001b[0m\u001b[0;34m\u001b[0m\u001b[0;34m\u001b[0m\u001b[0m\n\u001b[1;32m    163\u001b[0m         \u001b[0mjit_count_init\u001b[0m \u001b[0;34m=\u001b[0m \u001b[0mint\u001b[0m\u001b[0;34m(\u001b[0m\u001b[0mJIT_COUNT\u001b[0m\u001b[0;34m)\u001b[0m\u001b[0;34m\u001b[0m\u001b[0;34m\u001b[0m\u001b[0m\n\u001b[0;32m--> 164\u001b[0;31m         \u001b[0mstepper\u001b[0m \u001b[0;34m=\u001b[0m \u001b[0mself\u001b[0m\u001b[0;34m.\u001b[0m\u001b[0msolver\u001b[0m\u001b[0;34m.\u001b[0m\u001b[0mmake_stepper\u001b[0m\u001b[0;34m(\u001b[0m\u001b[0mstate\u001b[0m\u001b[0;34m=\u001b[0m\u001b[0mstate\u001b[0m\u001b[0;34m,\u001b[0m \u001b[0mdt\u001b[0m\u001b[0;34m=\u001b[0m\u001b[0mdt\u001b[0m\u001b[0;34m)\u001b[0m\u001b[0;34m\u001b[0m\u001b[0;34m\u001b[0m\u001b[0m\n\u001b[0m\u001b[1;32m    165\u001b[0m         self.diagnostics[\"jit_count\"] = {\n\u001b[1;32m    166\u001b[0m             \u001b[0;34m\"make_stepper\"\u001b[0m\u001b[0;34m:\u001b[0m \u001b[0mint\u001b[0m\u001b[0;34m(\u001b[0m\u001b[0mJIT_COUNT\u001b[0m\u001b[0;34m)\u001b[0m \u001b[0;34m-\u001b[0m \u001b[0mjit_count_init\u001b[0m\u001b[0;34m\u001b[0m\u001b[0;34m\u001b[0m\u001b[0m\n",
      "\u001b[0;32m~/anaconda3/lib/python3.9/site-packages/pde/solvers/explicit.py\u001b[0m in \u001b[0;36mmake_stepper\u001b[0;34m(self, state, dt)\u001b[0m\n\u001b[1;32m    481\u001b[0m \u001b[0;34m\u001b[0m\u001b[0m\n\u001b[1;32m    482\u001b[0m             \u001b[0;32mif\u001b[0m \u001b[0mself\u001b[0m\u001b[0;34m.\u001b[0m\u001b[0mscheme\u001b[0m \u001b[0;34m==\u001b[0m \u001b[0;34m\"euler\"\u001b[0m\u001b[0;34m:\u001b[0m\u001b[0;34m\u001b[0m\u001b[0;34m\u001b[0m\u001b[0m\n\u001b[0;32m--> 483\u001b[0;31m                 \u001b[0mfixed_stepper\u001b[0m \u001b[0;34m=\u001b[0m \u001b[0mself\u001b[0m\u001b[0;34m.\u001b[0m\u001b[0m_make_fixed_euler_stepper\u001b[0m\u001b[0;34m(\u001b[0m\u001b[0mstate\u001b[0m\u001b[0;34m,\u001b[0m \u001b[0mdt\u001b[0m\u001b[0;34m)\u001b[0m\u001b[0;34m\u001b[0m\u001b[0;34m\u001b[0m\u001b[0m\n\u001b[0m\u001b[1;32m    484\u001b[0m             \u001b[0;32melif\u001b[0m \u001b[0mself\u001b[0m\u001b[0;34m.\u001b[0m\u001b[0mscheme\u001b[0m \u001b[0;32min\u001b[0m \u001b[0;34m{\u001b[0m\u001b[0;34m\"runge-kutta\"\u001b[0m\u001b[0;34m,\u001b[0m \u001b[0;34m\"rk\"\u001b[0m\u001b[0;34m,\u001b[0m \u001b[0;34m\"rk45\"\u001b[0m\u001b[0;34m}\u001b[0m\u001b[0;34m:\u001b[0m\u001b[0;34m\u001b[0m\u001b[0;34m\u001b[0m\u001b[0m\n\u001b[1;32m    485\u001b[0m                 \u001b[0mfixed_stepper\u001b[0m \u001b[0;34m=\u001b[0m \u001b[0mself\u001b[0m\u001b[0;34m.\u001b[0m\u001b[0m_make_rk45_stepper\u001b[0m\u001b[0;34m(\u001b[0m\u001b[0mstate\u001b[0m\u001b[0;34m,\u001b[0m \u001b[0mdt\u001b[0m\u001b[0;34m)\u001b[0m\u001b[0;34m\u001b[0m\u001b[0;34m\u001b[0m\u001b[0m\n",
      "\u001b[0;32m~/anaconda3/lib/python3.9/site-packages/pde/solvers/explicit.py\u001b[0m in \u001b[0;36m_make_fixed_euler_stepper\u001b[0;34m(self, state, dt)\u001b[0m\n\u001b[1;32m    103\u001b[0m         \u001b[0;32melse\u001b[0m\u001b[0;34m:\u001b[0m\u001b[0;34m\u001b[0m\u001b[0;34m\u001b[0m\u001b[0m\n\u001b[1;32m    104\u001b[0m             \u001b[0;31m# handle deterministic version of the pde\u001b[0m\u001b[0;34m\u001b[0m\u001b[0;34m\u001b[0m\u001b[0m\n\u001b[0;32m--> 105\u001b[0;31m             \u001b[0mrhs_pde\u001b[0m \u001b[0;34m=\u001b[0m \u001b[0mself\u001b[0m\u001b[0;34m.\u001b[0m\u001b[0m_make_pde_rhs\u001b[0m\u001b[0;34m(\u001b[0m\u001b[0mstate\u001b[0m\u001b[0;34m,\u001b[0m \u001b[0mbackend\u001b[0m\u001b[0;34m=\u001b[0m\u001b[0mself\u001b[0m\u001b[0;34m.\u001b[0m\u001b[0mbackend\u001b[0m\u001b[0;34m)\u001b[0m\u001b[0;34m\u001b[0m\u001b[0;34m\u001b[0m\u001b[0m\n\u001b[0m\u001b[1;32m    106\u001b[0m \u001b[0;34m\u001b[0m\u001b[0m\n\u001b[1;32m    107\u001b[0m             def stepper(\n",
      "\u001b[0;32m~/anaconda3/lib/python3.9/site-packages/pde/solvers/base.py\u001b[0m in \u001b[0;36m_make_pde_rhs\u001b[0;34m(self, state, backend)\u001b[0m\n\u001b[1;32m    115\u001b[0m             )\n\u001b[1;32m    116\u001b[0m \u001b[0;34m\u001b[0m\u001b[0m\n\u001b[0;32m--> 117\u001b[0;31m         \u001b[0mrhs\u001b[0m \u001b[0;34m=\u001b[0m \u001b[0mself\u001b[0m\u001b[0;34m.\u001b[0m\u001b[0mpde\u001b[0m\u001b[0;34m.\u001b[0m\u001b[0mmake_pde_rhs\u001b[0m\u001b[0;34m(\u001b[0m\u001b[0mstate\u001b[0m\u001b[0;34m,\u001b[0m \u001b[0mbackend\u001b[0m\u001b[0;34m=\u001b[0m\u001b[0mbackend\u001b[0m\u001b[0;34m)\u001b[0m\u001b[0;34m\u001b[0m\u001b[0;34m\u001b[0m\u001b[0m\n\u001b[0m\u001b[1;32m    118\u001b[0m \u001b[0;34m\u001b[0m\u001b[0m\n\u001b[1;32m    119\u001b[0m         \u001b[0;32mif\u001b[0m \u001b[0mhasattr\u001b[0m\u001b[0;34m(\u001b[0m\u001b[0mrhs\u001b[0m\u001b[0;34m,\u001b[0m \u001b[0;34m\"_backend\"\u001b[0m\u001b[0;34m)\u001b[0m\u001b[0;34m:\u001b[0m\u001b[0;34m\u001b[0m\u001b[0;34m\u001b[0m\u001b[0m\n",
      "\u001b[0;32m~/anaconda3/lib/python3.9/site-packages/pde/pdes/base.py\u001b[0m in \u001b[0;36mmake_pde_rhs\u001b[0;34m(self, state, backend)\u001b[0m\n\u001b[1;32m    230\u001b[0m         \u001b[0;32mif\u001b[0m \u001b[0mbackend\u001b[0m \u001b[0;34m==\u001b[0m \u001b[0;34m\"auto\"\u001b[0m\u001b[0;34m:\u001b[0m\u001b[0;34m\u001b[0m\u001b[0;34m\u001b[0m\u001b[0m\n\u001b[1;32m    231\u001b[0m             \u001b[0;32mtry\u001b[0m\u001b[0;34m:\u001b[0m\u001b[0;34m\u001b[0m\u001b[0;34m\u001b[0m\u001b[0m\n\u001b[0;32m--> 232\u001b[0;31m                 \u001b[0mrhs\u001b[0m \u001b[0;34m=\u001b[0m \u001b[0mself\u001b[0m\u001b[0;34m.\u001b[0m\u001b[0m_make_pde_rhs_numba_cached\u001b[0m\u001b[0;34m(\u001b[0m\u001b[0mstate\u001b[0m\u001b[0;34m)\u001b[0m\u001b[0;34m\u001b[0m\u001b[0;34m\u001b[0m\u001b[0m\n\u001b[0m\u001b[1;32m    233\u001b[0m             \u001b[0;32mexcept\u001b[0m \u001b[0mNotImplementedError\u001b[0m\u001b[0;34m:\u001b[0m\u001b[0;34m\u001b[0m\u001b[0;34m\u001b[0m\u001b[0m\n\u001b[1;32m    234\u001b[0m                 \u001b[0mbackend\u001b[0m \u001b[0;34m=\u001b[0m \u001b[0;34m\"numpy\"\u001b[0m\u001b[0;34m\u001b[0m\u001b[0;34m\u001b[0m\u001b[0m\n",
      "\u001b[0;32m~/anaconda3/lib/python3.9/site-packages/pde/pdes/base.py\u001b[0m in \u001b[0;36m_make_pde_rhs_numba_cached\u001b[0;34m(self, state)\u001b[0m\n\u001b[1;32m    204\u001b[0m         \u001b[0;32melse\u001b[0m\u001b[0;34m:\u001b[0m\u001b[0;34m\u001b[0m\u001b[0;34m\u001b[0m\u001b[0m\n\u001b[1;32m    205\u001b[0m             \u001b[0;31m# caching was skipped\u001b[0m\u001b[0;34m\u001b[0m\u001b[0;34m\u001b[0m\u001b[0m\n\u001b[0;32m--> 206\u001b[0;31m             \u001b[0mrhs\u001b[0m \u001b[0;34m=\u001b[0m \u001b[0mself\u001b[0m\u001b[0;34m.\u001b[0m\u001b[0m_make_pde_rhs_numba\u001b[0m\u001b[0;34m(\u001b[0m\u001b[0mstate\u001b[0m\u001b[0;34m)\u001b[0m\u001b[0;34m\u001b[0m\u001b[0;34m\u001b[0m\u001b[0m\n\u001b[0m\u001b[1;32m    207\u001b[0m \u001b[0;34m\u001b[0m\u001b[0m\n\u001b[1;32m    208\u001b[0m         \u001b[0;32mif\u001b[0m \u001b[0mcheck_implementation\u001b[0m\u001b[0;34m:\u001b[0m\u001b[0;34m\u001b[0m\u001b[0;34m\u001b[0m\u001b[0m\n",
      "\u001b[0;32m~/anaconda3/lib/python3.9/site-packages/pde/pdes/pde.py\u001b[0m in \u001b[0;36m_make_pde_rhs_numba\u001b[0;34m(self, state)\u001b[0m\n\u001b[1;32m    557\u001b[0m             \u001b[0mobtained\u001b[0m \u001b[0man\u001b[0m \u001b[0minstance\u001b[0m \u001b[0mof\u001b[0m \u001b[0;34m:\u001b[0m\u001b[0;32mclass\u001b[0m\u001b[0;34m:\u001b[0m\u001b[0;31m`\u001b[0m\u001b[0;34m~\u001b[0m\u001b[0mnumpy\u001b[0m\u001b[0;34m.\u001b[0m\u001b[0mndarray\u001b[0m\u001b[0;31m`\u001b[0m \u001b[0mgiving\u001b[0m \u001b[0mthe\u001b[0m \u001b[0mevolution\u001b[0m \u001b[0mrate\u001b[0m\u001b[0;34m.\u001b[0m\u001b[0;34m\u001b[0m\u001b[0;34m\u001b[0m\u001b[0m\n\u001b[1;32m    558\u001b[0m         \"\"\"\n\u001b[0;32m--> 559\u001b[0;31m         \u001b[0mcache\u001b[0m \u001b[0;34m=\u001b[0m \u001b[0mself\u001b[0m\u001b[0;34m.\u001b[0m\u001b[0m_prepare_cache\u001b[0m\u001b[0;34m(\u001b[0m\u001b[0mstate\u001b[0m\u001b[0;34m,\u001b[0m \u001b[0mbackend\u001b[0m\u001b[0;34m=\u001b[0m\u001b[0;34m\"numba\"\u001b[0m\u001b[0;34m)\u001b[0m\u001b[0;34m\u001b[0m\u001b[0;34m\u001b[0m\u001b[0m\n\u001b[0m\u001b[1;32m    560\u001b[0m \u001b[0;34m\u001b[0m\u001b[0m\n\u001b[1;32m    561\u001b[0m         \u001b[0;32mif\u001b[0m \u001b[0misinstance\u001b[0m\u001b[0;34m(\u001b[0m\u001b[0mstate\u001b[0m\u001b[0;34m,\u001b[0m \u001b[0mDataFieldBase\u001b[0m\u001b[0;34m)\u001b[0m\u001b[0;34m:\u001b[0m\u001b[0;34m\u001b[0m\u001b[0;34m\u001b[0m\u001b[0m\n",
      "\u001b[0;32m~/anaconda3/lib/python3.9/site-packages/pde/pdes/pde.py\u001b[0m in \u001b[0;36m_prepare_cache\u001b[0;34m(self, state, backend)\u001b[0m\n\u001b[1;32m    377\u001b[0m                 \u001b[0mvalue\u001b[0m \u001b[0;34m=\u001b[0m \u001b[0mvalue\u001b[0m\u001b[0;34m.\u001b[0m\u001b[0mdata\u001b[0m  \u001b[0;31m# just keep the actual discretized data\u001b[0m\u001b[0;34m\u001b[0m\u001b[0;34m\u001b[0m\u001b[0m\n\u001b[1;32m    378\u001b[0m             \u001b[0;32melse\u001b[0m\u001b[0;34m:\u001b[0m\u001b[0;34m\u001b[0m\u001b[0;34m\u001b[0m\u001b[0m\n\u001b[0;32m--> 379\u001b[0;31m                 \u001b[0;32mraise\u001b[0m \u001b[0mTypeError\u001b[0m\u001b[0;34m(\u001b[0m\u001b[0;34mf\"Constant has unsupported type {value.__class__}\"\u001b[0m\u001b[0;34m)\u001b[0m\u001b[0;34m\u001b[0m\u001b[0;34m\u001b[0m\u001b[0m\n\u001b[0m\u001b[1;32m    380\u001b[0m \u001b[0;34m\u001b[0m\u001b[0m\n\u001b[1;32m    381\u001b[0m             \u001b[0;32mfor\u001b[0m \u001b[0mrhs\u001b[0m \u001b[0;32min\u001b[0m \u001b[0mself\u001b[0m\u001b[0;34m.\u001b[0m\u001b[0m_rhs_expr\u001b[0m\u001b[0;34m.\u001b[0m\u001b[0mvalues\u001b[0m\u001b[0;34m(\u001b[0m\u001b[0;34m)\u001b[0m\u001b[0;34m:\u001b[0m\u001b[0;34m\u001b[0m\u001b[0;34m\u001b[0m\u001b[0m\n",
      "\u001b[0;31mTypeError\u001b[0m: Constant has unsupported type <class 'numpy.ndarray'>"
     ]
    }
   ],
   "source": [
    "rrr = learned_model(-.022,-.01,.06631,.0008,.03)"
   ]
  },
  {
   "cell_type": "code",
   "execution_count": 194,
   "id": "6959686a",
   "metadata": {},
   "outputs": [
    {
     "data": {
      "text/plain": [
       "-0.0296"
      ]
     },
     "execution_count": 194,
     "metadata": {},
     "output_type": "execute_result"
    }
   ],
   "source": [
    "round(w[0].real[0],4)"
   ]
  },
  {
   "cell_type": "code",
   "execution_count": 191,
   "id": "105c537d",
   "metadata": {},
   "outputs": [
    {
     "data": {
      "text/plain": [
       "-0.029612653169483544"
      ]
     },
     "execution_count": 191,
     "metadata": {},
     "output_type": "execute_result"
    }
   ],
   "source": [
    "w[0].real[0]"
   ]
  },
  {
   "cell_type": "code",
   "execution_count": null,
   "id": "d6baef27",
   "metadata": {},
   "outputs": [],
   "source": []
  },
  {
   "cell_type": "code",
   "execution_count": null,
   "id": "db09f4b7",
   "metadata": {},
   "outputs": [],
   "source": []
  },
  {
   "cell_type": "code",
   "execution_count": null,
   "id": "8c0bf0ba",
   "metadata": {},
   "outputs": [],
   "source": []
  },
  {
   "cell_type": "code",
   "execution_count": null,
   "id": "fda38d85",
   "metadata": {},
   "outputs": [],
   "source": []
  },
  {
   "cell_type": "code",
   "execution_count": null,
   "id": "9abb6375",
   "metadata": {},
   "outputs": [],
   "source": []
  },
  {
   "cell_type": "code",
   "execution_count": null,
   "id": "dfc37b13",
   "metadata": {},
   "outputs": [],
   "source": []
  },
  {
   "cell_type": "code",
   "execution_count": null,
   "id": "62bf4377",
   "metadata": {},
   "outputs": [],
   "source": []
  },
  {
   "cell_type": "code",
   "execution_count": null,
   "id": "34277e4a",
   "metadata": {},
   "outputs": [],
   "source": []
  },
  {
   "cell_type": "code",
   "execution_count": null,
   "id": "581731b5",
   "metadata": {},
   "outputs": [],
   "source": []
  },
  {
   "cell_type": "code",
   "execution_count": null,
   "id": "4e20657c",
   "metadata": {},
   "outputs": [],
   "source": []
  },
  {
   "cell_type": "markdown",
   "id": "f2c365d9",
   "metadata": {},
   "source": [
    "# Data Denoising"
   ]
  },
  {
   "cell_type": "code",
   "execution_count": 4,
   "id": "843aa97f",
   "metadata": {},
   "outputs": [
    {
     "name": "stderr",
     "output_type": "stream",
     "text": [
      "/tmp/ipykernel_545633/4070931213.py:7: ComplexWarning: Casting complex values to real discards the imaginary part\n",
      "  Px[:,i] = FiniteDiff(Pt[:,i],dx=0.00002,d=2)\n",
      "/tmp/ipykernel_545633/4070931213.py:8: ComplexWarning: Casting complex values to real discards the imaginary part\n",
      "  Pxx[:,i] = FiniteDiff(Px[:,i],dx=0.00002,d=2)\n",
      "/tmp/ipykernel_545633/4070931213.py:15: ComplexWarning: Casting complex values to real discards the imaginary part\n",
      "  dPt[i,:] = FiniteDiff(Pt[i,:],dx=0.001,d=1) #PolyDiff(Pt,x)#\n"
     ]
    }
   ],
   "source": [
    "# Spatial derivative\n",
    "time,space  = Pt.shape\n",
    "Px = np.zeros((time,space))\n",
    "Pxx = np.zeros((time,space))\n",
    "\n",
    "for i in range(space):#space\n",
    "    Px[:,i] = FiniteDiff(Pt[:,i],dx=0.00002,d=2)\n",
    "    Pxx[:,i] = FiniteDiff(Px[:,i],dx=0.00002,d=2)\n",
    "#     \n",
    "    \n",
    "#Time derivative\n",
    "dPt = np.zeros((time,space))\n",
    "\n",
    "for i in range(time):#time\n",
    "    dPt[i,:] = FiniteDiff(Pt[i,:],dx=0.001,d=1) #PolyDiff(Pt,x)#\n",
    "    \n",
    "    \n"
   ]
  },
  {
   "cell_type": "markdown",
   "id": "aec4accc",
   "metadata": {},
   "source": [
    "# Build Library"
   ]
  },
  {
   "cell_type": "code",
   "execution_count": 60,
   "id": "a4cf07ed",
   "metadata": {},
   "outputs": [
    {
     "name": "stdout",
     "output_type": "stream",
     "text": [
      "(4050,)\n",
      "(4050,)\n",
      "(4050,)\n",
      "(4050,)\n",
      "(4050,)\n",
      "(4050,)\n",
      "(4050, 5)\n",
      "(4050, 1)\n"
     ]
    }
   ],
   "source": [
    "col0 = np.ones(space*time) # 1s\n",
    "col1 = np.tile(x,time) # x\n",
    "col2 = Pt.flatten() # input data\n",
    "col3 = Px.flatten() # 1st derivative\n",
    "col4 = np.multiply(col1,col3) # xu_x term\n",
    "col5 = Pxx.flatten()\n",
    "Theta = np.column_stack((col0,col2,col3,col4,col5))\n",
    "dPt = np.reshape(dPt,(time*space,1),order='F')\n",
    "\n",
    "print(col0.shape)\n",
    "print(col1.shape)\n",
    "print(col2.shape)\n",
    "print(col3.shape)\n",
    "print(col4.shape)\n",
    "print(col5.shape)\n",
    "print(Theta.shape)\n",
    "print(dPt.shape)\n"
   ]
  },
  {
   "cell_type": "code",
   "execution_count": 137,
   "id": "7d47bec0",
   "metadata": {},
   "outputs": [
    {
     "data": {
      "text/plain": [
       "(27, 150)"
      ]
     },
     "execution_count": 137,
     "metadata": {},
     "output_type": "execute_result"
    }
   ],
   "source": [
    "# print_pde(w,rhs_desc)\n",
    "\n",
    "# print('weight vector')\n",
    "# w\n",
    "Pt.shape"
   ]
  },
  {
   "cell_type": "code",
   "execution_count": 180,
   "id": "8858558c",
   "metadata": {},
   "outputs": [
    {
     "name": "stdout",
     "output_type": "stream",
     "text": [
      "Optimal tolerance: 0\n",
      "u_t = (-0.013319 +0.000000i)\n",
      "    + (0.038988 +0.000000i)u\n",
      "    + (0.000086 +0.000000i)u^2\n",
      "    + (0.055437 +0.000000i)u_{x}\n",
      "    + (0.000078 +0.000000i)uu_{x}\n",
      "    + (0.000000 +0.000000i)u^2u_{x}\n",
      "    + (0.035940 +0.000000i)u_{xx}\n",
      "    + (-0.000010 +0.000000i)uu_{xx}\n",
      "    + (0.000000 +0.000000i)u^2u_{xx}\n",
      "   \n"
     ]
    }
   ],
   "source": [
    "Ut,R,rhs_des = build_linear_system(Pt, dt=1.0, dx=2, D=2, P=2, time_diff = 'poly', space_diff='poly', deg_x = 5, deg_t=6)\n",
    "w, tol = TrainSTRidge(R,Ut,0.0001,0,maxit=25,STR_iters=50,print_best_tol=True,normalize=2)\n",
    "print_pde(w,rhs_des)"
   ]
  },
  {
   "cell_type": "code",
   "execution_count": 185,
   "id": "30c64f0d",
   "metadata": {},
   "outputs": [
    {
     "data": {
      "text/plain": [
       "(2760, 1)"
      ]
     },
     "execution_count": 185,
     "metadata": {},
     "output_type": "execute_result"
    }
   ],
   "source": [
    "Ut.shape"
   ]
  },
  {
   "cell_type": "code",
   "execution_count": 44,
   "id": "8d32a47b",
   "metadata": {},
   "outputs": [
    {
     "data": {
      "text/plain": [
       "['',\n",
       " 'u',\n",
       " 'u^2',\n",
       " 'u_{x}',\n",
       " 'uu_{x}',\n",
       " 'u^2u_{x}',\n",
       " 'u_{xx}',\n",
       " 'uu_{xx}',\n",
       " 'u^2u_{xx}']"
      ]
     },
     "execution_count": 44,
     "metadata": {},
     "output_type": "execute_result"
    }
   ],
   "source": [
    "rhs_des"
   ]
  },
  {
   "cell_type": "code",
   "execution_count": 161,
   "id": "26e52dce",
   "metadata": {},
   "outputs": [
    {
     "data": {
      "text/plain": [
       "(2760,)"
      ]
     },
     "execution_count": 161,
     "metadata": {},
     "output_type": "execute_result"
    }
   ],
   "source": [
    "trim = x[15:-15]\n",
    "trim_x = np.tile(trim,23)\n",
    "trim_x.shape"
   ]
  },
  {
   "cell_type": "code",
   "execution_count": 181,
   "id": "b7472a07",
   "metadata": {},
   "outputs": [
    {
     "data": {
      "text/plain": [
       "(2760, 5)"
      ]
     },
     "execution_count": 181,
     "metadata": {},
     "output_type": "execute_result"
    }
   ],
   "source": [
    "rhs_desc = ['','p','p_{x}','xp_{x}', 'p_{xx}']\n",
    "col_px = np.multiply(trim_x,R[:,1])\n",
    "fpe_theta=np.column_stack((R[:,0],R[:,1],R[:,3],col_px,R[:,6]))\n",
    "# col_x = np.multiply(trim_x,R[:,1])\n",
    "fpe_theta.shape"
   ]
  },
  {
   "cell_type": "code",
   "execution_count": 101,
   "id": "a9086d07",
   "metadata": {},
   "outputs": [],
   "source": [
    "from sklearn.preprocessing import StandardScaler, Normalizer\n",
    "\n",
    "sc_X = Normalizer()\n",
    "FPE_Scaled = sc_X.fit_transform(fpe_theta.real)"
   ]
  },
  {
   "cell_type": "code",
   "execution_count": 148,
   "id": "59e2ede0",
   "metadata": {},
   "outputs": [
    {
     "name": "stderr",
     "output_type": "stream",
     "text": [
      "/home/nwachukwu/anaconda3/lib/python3.9/site-packages/numpy/core/_asarray.py:102: ComplexWarning: Casting complex values to real discards the imaginary part\n",
      "  return array(a, dtype, copy=False, order=order)\n"
     ]
    },
    {
     "data": {
      "text/plain": [
       "[<matplotlib.lines.Line2D at 0x7f277f505d30>]"
      ]
     },
     "execution_count": 148,
     "metadata": {},
     "output_type": "execute_result"
    },
    {
     "data": {
      "image/png": "[encoded data removed]",
      "text/plain": [
       "<Figure size 432x288 with 1 Axes>"
      ]
     },
     "metadata": {
      "needs_background": "light"
     },
     "output_type": "display_data"
    }
   ],
   "source": [
    "\n",
    "n, m = Pt.shape\n",
    "width_t = m//10\n",
    "width_x = n//10\n",
    "m2 = m-2*width_t\n",
    "n2 = n-2*width_x\n",
    "offset_t = width_t\n",
    "offset_x = width_x\n",
    "deg_t = 4\n",
    "dt = 0.4\n",
    "ut = np.zeros((n2,m2), dtype=np.complex64)\n",
    "T= np.linspace(0,(m-1)*dt,m)\n",
    "for i in range(n2):\n",
    "    ut[i,:] = PolyDiff(Pt[i+offset_x,:],T,diff=1,width=width_t,deg=deg_t)[:,0]\n",
    "\n",
    "    \n",
    "plt.plot(ut[22])"
   ]
  },
  {
   "cell_type": "code",
   "execution_count": 186,
   "id": "fa9ee3d4",
   "metadata": {},
   "outputs": [
    {
     "data": {
      "text/plain": [
       "(23, 120)"
      ]
     },
     "execution_count": 186,
     "metadata": {},
     "output_type": "execute_result"
    }
   ],
   "source": [
    "ut.shape"
   ]
  },
  {
   "cell_type": "code",
   "execution_count": 144,
   "id": "80c0e75a",
   "metadata": {},
   "outputs": [
    {
     "name": "stderr",
     "output_type": "stream",
     "text": [
      "/home/nwachukwu/anaconda3/lib/python3.9/site-packages/numpy/core/_asarray.py:102: ComplexWarning: Casting complex values to real discards the imaginary part\n",
      "  return array(a, dtype, copy=False, order=order)\n"
     ]
    },
    {
     "data": {
      "text/plain": [
       "[<matplotlib.lines.Line2D at 0x7f2799c6b8e0>]"
      ]
     },
     "execution_count": 144,
     "metadata": {},
     "output_type": "execute_result"
    },
    {
     "data": {
      "image/png": "[encoded data removed]",
      "text/plain": [
       "<Figure size 432x288 with 1 Axes>"
      ]
     },
     "metadata": {
      "needs_background": "light"
     },
     "output_type": "display_data"
    }
   ],
   "source": []
  },
  {
   "cell_type": "code",
   "execution_count": 184,
   "id": "919e67d9",
   "metadata": {},
   "outputs": [
    {
     "name": "stdout",
     "output_type": "stream",
     "text": [
      "Optimal tolerance: 12500.0\n",
      "u_t = (-0.079154 +0.000000i)\n",
      "    + (0.063786 +0.000000i)p\n",
      "    + (0.082614 +0.000000i)p_{x}\n",
      "    + (-0.000354 +0.000000i)xp_{x}\n",
      "    + (0.092006 +0.000000i)p_{xx}\n",
      "   \n"
     ]
    }
   ],
   "source": [
    "rhs_desc\n",
    "w, tol = TrainSTRidge(fpe_theta,Ut,0.005,250,maxit=50,STR_iters=50,print_best_tol=True,normalize=0)\n",
    "print_pde(w,rhs_desc)"
   ]
  },
  {
   "cell_type": "code",
   "execution_count": 67,
   "id": "5771995e",
   "metadata": {
    "collapsed": true
   },
   "outputs": [
    {
     "name": "stdout",
     "output_type": "stream",
     "text": [
      "u_t = (-75.612503 +0.000000i)\n",
      "    + (73.323151 +0.000000i)p\n",
      "    + (0.384509 +0.000000i)p_{x}\n",
      "    + (0.001823 +0.000000i)p_{xx}\n",
      "   \n"
     ]
    },
    {
     "name": "stderr",
     "output_type": "stream",
     "text": [
      "/home/nwachukwu/MSc_project/EQL/PDE-FIND/KO_PDE_FIND.py:550: ComplexWarning: Casting complex values to real discards the imaginary part\n",
      "  w_added[list(F_trial)] = np.linalg.lstsq(X[:, list(F_trial)], y, rcond=None)[0]\n"
     ]
    }
   ],
   "source": [
    "w = FoBaGreedy(fpe_theta,Ut)\n",
    "print_pde(w,rhs_desc)"
   ]
  },
  {
   "cell_type": "code",
   "execution_count": 69,
   "id": "1607a249",
   "metadata": {},
   "outputs": [
    {
     "name": "stdout",
     "output_type": "stream",
     "text": [
      "u_t = (-75.612509 +0.000000i)\n",
      "    + (73.323173 +0.000000i)p\n",
      "    + (0.384509 +0.000000i)p_{x}\n",
      "    + (0.001823 +0.000000i)p_{xx}\n",
      "   \n"
     ]
    },
    {
     "name": "stderr",
     "output_type": "stream",
     "text": [
      "/home/nwachukwu/anaconda3/lib/python3.9/site-packages/numpy/core/fromnumeric.py:87: VisibleDeprecationWarning: Creating an ndarray from ragged nested sequences (which is a list-or-tuple of lists-or-tuples-or ndarrays with different lengths or shapes) is deprecated. If you meant to do this, you must specify 'dtype=object' when creating the ndarray.\n",
      "  return ufunc.reduce(obj, axis, dtype, out, **passkwargs)\n"
     ]
    }
   ],
   "source": [
    "w = Lasso(fpe_theta,Ut,0.01)\n",
    "print_pde(w,rhs_desc)"
   ]
  }
 ],
 "metadata": {
  "kernelspec": {
   "display_name": "Python 3",
   "language": "python",
   "name": "python3"
  },
  "language_info": {
   "codemirror_mode": {
    "name": "ipython",
    "version": 3
   },
   "file_extension": ".py",
   "mimetype": "text/x-python",
   "name": "python",
   "nbconvert_exporter": "python",
   "pygments_lexer": "ipython3",
   "version": "3.9.7"
  }
 },
 "nbformat": 4,
 "nbformat_minor": 5
}
